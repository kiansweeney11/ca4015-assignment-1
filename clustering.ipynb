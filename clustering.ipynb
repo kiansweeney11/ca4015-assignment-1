{
 "cells": [
  {
   "cell_type": "markdown",
   "id": "5fdf917f",
   "metadata": {},
   "source": [
    "# 3. Clustering\n",
    "## After our analysis of the data we must now cluster the data accordingly\n",
    "Importing approriate libraries"
   ]
  },
  {
   "cell_type": "code",
   "execution_count": 1,
   "id": "22216486",
   "metadata": {},
   "outputs": [],
   "source": [
    "import pandas as pd\n",
    "import seaborn as sn\n",
    "import numpy as np\n",
    "import matplotlib.pyplot as plt\n",
    "from sklearn.cluster import KMeans, AgglomerativeClustering\n",
    "from sklearn.metrics import silhouette_score"
   ]
  },
  {
   "cell_type": "markdown",
   "id": "48e3d729",
   "metadata": {},
   "source": [
    "### First, we read in our data"
   ]
  },
  {
   "cell_type": "code",
   "execution_count": 42,
   "id": "c638d503",
   "metadata": {},
   "outputs": [],
   "source": [
    "index95 = pd.read_csv('data/index_95.csv')\n",
    "index100 = pd.read_csv('data/index_100.csv')\n",
    "index150 = pd.read_csv('data/index_150.csv')\n",
    "win95 = pd.read_csv('data/wi_95.csv')\n",
    "win100 = pd.read_csv('data/wi_100.csv')\n",
    "win150 = pd.read_csv('data/wi_150.csv')\n",
    "loss95 = pd.read_csv('data/lo_95.csv')\n",
    "loss100 = pd.read_csv('data/lo_100.csv')\n",
    "loss150 = pd.read_csv('data/lo_150.csv')\n",
    "choice95 = pd.read_csv('data/choice_95.csv')\n",
    "choice100 = pd.read_csv('data/choice_100.csv')\n",
    "choice150 = pd.read_csv('data/choice_150.csv')"
   ]
  },
  {
   "cell_type": "markdown",
   "id": "26038553",
   "metadata": {},
   "source": [
    "Cleaned data from processing"
   ]
  },
  {
   "cell_type": "code",
   "execution_count": 43,
   "id": "12b5f886",
   "metadata": {},
   "outputs": [],
   "source": [
    "cleaned95 = pd.read_csv('data/cleaned95.csv', index_col='Unnamed: 0')\n",
    "cleaned100 = pd.read_csv('data/cleaned100.csv', index_col='Unnamed: 0')\n",
    "cleaned150 = pd.read_csv('data/cleaned150.csv', index_col='Unnamed: 0')"
   ]
  },
  {
   "cell_type": "code",
   "execution_count": 44,
   "id": "8d0e61f2",
   "metadata": {},
   "outputs": [
    {
     "data": {
      "text/html": [
       "<div>\n",
       "<style scoped>\n",
       "    .dataframe tbody tr th:only-of-type {\n",
       "        vertical-align: middle;\n",
       "    }\n",
       "\n",
       "    .dataframe tbody tr th {\n",
       "        vertical-align: top;\n",
       "    }\n",
       "\n",
       "    .dataframe thead th {\n",
       "        text-align: right;\n",
       "    }\n",
       "</style>\n",
       "<table border=\"1\" class=\"dataframe\">\n",
       "  <thead>\n",
       "    <tr style=\"text-align: right;\">\n",
       "      <th></th>\n",
       "      <th>Margin</th>\n",
       "      <th>Most Common Choice</th>\n",
       "      <th>Study</th>\n",
       "      <th>Average Choice</th>\n",
       "    </tr>\n",
       "  </thead>\n",
       "  <tbody>\n",
       "    <tr>\n",
       "      <th>Subj_1</th>\n",
       "      <td>1150</td>\n",
       "      <td>4</td>\n",
       "      <td>Fridberg</td>\n",
       "      <td>3.400000</td>\n",
       "    </tr>\n",
       "    <tr>\n",
       "      <th>Subj_2</th>\n",
       "      <td>-675</td>\n",
       "      <td>4</td>\n",
       "      <td>Fridberg</td>\n",
       "      <td>2.568421</td>\n",
       "    </tr>\n",
       "    <tr>\n",
       "      <th>Subj_3</th>\n",
       "      <td>-750</td>\n",
       "      <td>4</td>\n",
       "      <td>Fridberg</td>\n",
       "      <td>2.778947</td>\n",
       "    </tr>\n",
       "    <tr>\n",
       "      <th>Subj_4</th>\n",
       "      <td>-525</td>\n",
       "      <td>4</td>\n",
       "      <td>Fridberg</td>\n",
       "      <td>2.810526</td>\n",
       "    </tr>\n",
       "    <tr>\n",
       "      <th>Subj_5</th>\n",
       "      <td>100</td>\n",
       "      <td>4</td>\n",
       "      <td>Fridberg</td>\n",
       "      <td>3.021053</td>\n",
       "    </tr>\n",
       "  </tbody>\n",
       "</table>\n",
       "</div>"
      ],
      "text/plain": [
       "        Margin  Most Common Choice     Study  Average Choice\n",
       "Subj_1    1150                   4  Fridberg        3.400000\n",
       "Subj_2    -675                   4  Fridberg        2.568421\n",
       "Subj_3    -750                   4  Fridberg        2.778947\n",
       "Subj_4    -525                   4  Fridberg        2.810526\n",
       "Subj_5     100                   4  Fridberg        3.021053"
      ]
     },
     "execution_count": 44,
     "metadata": {},
     "output_type": "execute_result"
    }
   ],
   "source": [
    "cleaned95.head()"
   ]
  },
  {
   "cell_type": "markdown",
   "id": "dd2c9631",
   "metadata": {},
   "source": [
    "Initially, I decided to cluster based on the profit/loss margin for each subject and their most common choice. However, the most common choice would limit the clusters greatly I felt. There would only be 4 possible values (1,2,3 or 4) and this would limit what we could learn from the approriate cluster analysis. This lead me to going back to my data processing and creating the average choice column to add to my data. This was the sum of all the subjects selection divided by the number of trials and I felt this would provide better cluster analysis as a result as there would be far more variety in the range of values."
   ]
  },
  {
   "cell_type": "code",
   "execution_count": 45,
   "id": "984b9cff",
   "metadata": {},
   "outputs": [],
   "source": [
    "kmeans_margin_choice = KMeans(n_clusters=4).fit(cleaned95[[\"Margin\", \"Average Choice\"]])\n",
    "centroids_betas = kmeans_margin_choice.cluster_centers_"
   ]
  },
  {
   "cell_type": "code",
   "execution_count": 47,
   "id": "dd43c5f5",
   "metadata": {},
   "outputs": [
    {
     "data": {
      "image/png": "[encoded data removed]",
      "text/plain": [
       "<Figure size 432x288 with 1 Axes>"
      ]
     },
     "metadata": {
      "needs_background": "light"
     },
     "output_type": "display_data"
    }
   ],
   "source": [
    "plt.scatter(cleaned95['Margin'], cleaned95['Average Choice'], c= kmeans_margin_choice.labels_, cmap = \"Set1\", alpha=0.5)\n",
    "plt.scatter(centroids_betas[:, 0], centroids_betas[:, 1], c='blue')\n",
    "plt.xlabel('Profit/Loss Margin')\n",
    "plt.ylabel('Average Choice')\n",
    "plt.show()"
   ]
  },
  {
   "cell_type": "code",
   "execution_count": 34,
   "id": "8a6c5c82",
   "metadata": {},
   "outputs": [],
   "source": [
    "kmeans_margin_choice100 = KMeans(n_clusters=4).fit(cleaned100[[\"Most Common Choice\", \"Margin\"]])\n",
    "centroids_betas = kmeans_margin_choice100.cluster_centers_"
   ]
  },
  {
   "cell_type": "code",
   "execution_count": 35,
   "id": "4a847d2e",
   "metadata": {},
   "outputs": [
    {
     "data": {
      "image/png": "[encoded data removed]",
      "text/plain": [
       "<Figure size 432x288 with 1 Axes>"
      ]
     },
     "metadata": {
      "needs_background": "light"
     },
     "output_type": "display_data"
    }
   ],
   "source": [
    "plt.scatter(cleaned100['Most Common Choice'], cleaned100['Margin'], c= kmeans_margin_choice100.labels_, cmap = \"Set1\", alpha=0.5)\n",
    "plt.scatter(centroids_betas[:, 0], centroids_betas[:, 1], c='blue')\n",
    "plt.xlabel('Choice')\n",
    "plt.ylabel('Margin')\n",
    "plt.show()"
   ]
  },
  {
   "cell_type": "code",
   "execution_count": 40,
   "id": "34427b16",
   "metadata": {},
   "outputs": [],
   "source": [
    "kmeans_margin_choice150 = KMeans(n_clusters=5).fit(cleaned150[[\"Most Common Choice\", \"Margin\"]])\n",
    "centroids_betas = kmeans_margin_choice150.cluster_centers_"
   ]
  },
  {
   "cell_type": "code",
   "execution_count": 41,
   "id": "4a876516",
   "metadata": {},
   "outputs": [
    {
     "data": {
      "image/png": "[encoded data removed]",
      "text/plain": [
       "<Figure size 432x288 with 1 Axes>"
      ]
     },
     "metadata": {
      "needs_background": "light"
     },
     "output_type": "display_data"
    }
   ],
   "source": [
    "plt.scatter(cleaned150['Most Common Choice'], cleaned150['Margin'], c= kmeans_margin_choice150.labels_, cmap = \"Set1\", alpha=0.5)\n",
    "plt.scatter(centroids_betas[:, 0], centroids_betas[:, 1], c='blue')\n",
    "plt.xlabel('Choice')\n",
    "plt.ylabel('Margin')\n",
    "plt.show()"
   ]
  },
  {
   "cell_type": "code",
   "execution_count": null,
   "id": "3b7c7233",
   "metadata": {},
   "outputs": [],
   "source": []
  }
 ],
 "metadata": {
  "kernelspec": {
   "display_name": "Python 3",
   "language": "python",
   "name": "python3"
  },
  "language_info": {
   "codemirror_mode": {
    "name": "ipython",
    "version": 3
   },
   "file_extension": ".py",
   "mimetype": "text/x-python",
   "name": "python",
   "nbconvert_exporter": "python",
   "pygments_lexer": "ipython3",
   "version": "3.8.8"
  }
 },
 "nbformat": 4,
 "nbformat_minor": 5
}
