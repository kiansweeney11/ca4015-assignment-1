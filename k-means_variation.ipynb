{
 "cells": [
  {
   "cell_type": "markdown",
   "id": "b5141c50",
   "metadata": {},
   "source": [
    "# 4. K-Means Variation"
   ]
  },
  {
   "cell_type": "markdown",
   "id": "01c72c17",
   "metadata": {},
   "source": [
    "Import required libraries again."
   ]
  },
  {
   "cell_type": "code",
   "execution_count": 1,
   "id": "3069d4db",
   "metadata": {},
   "outputs": [],
   "source": [
    "import pandas as pd\n",
    "import seaborn as sn\n",
    "import numpy as np\n",
    "import matplotlib.pyplot as plt\n",
    "from sklearn.cluster import KMeans, AgglomerativeClustering\n",
    "from sklearn.metrics import silhouette_score"
   ]
  },
  {
   "cell_type": "markdown",
   "id": "778c76fb",
   "metadata": {},
   "source": [
    "Import our data"
   ]
  },
  {
   "cell_type": "code",
   "execution_count": 2,
   "id": "1a886b75",
   "metadata": {},
   "outputs": [],
   "source": [
    "index95 = pd.read_csv('data/index_95.csv')\n",
    "index100 = pd.read_csv('data/index_100.csv')\n",
    "index150 = pd.read_csv('data/index_150.csv')\n",
    "win95 = pd.read_csv('data/wi_95.csv')\n",
    "win100 = pd.read_csv('data/wi_100.csv')\n",
    "win150 = pd.read_csv('data/wi_150.csv')\n",
    "loss95 = pd.read_csv('data/lo_95.csv')\n",
    "loss100 = pd.read_csv('data/lo_100.csv')\n",
    "loss150 = pd.read_csv('data/lo_150.csv')\n",
    "choice95 = pd.read_csv('data/choice_95.csv')\n",
    "choice100 = pd.read_csv('data/choice_100.csv')\n",
    "choice150 = pd.read_csv('data/choice_150.csv')\n",
    "\n",
    "cleaned95 = pd.read_csv('data/cleaned95.csv', index_col='Unnamed: 0')\n",
    "cleaned100 = pd.read_csv('data/cleaned100.csv', index_col='Unnamed: 0')\n",
    "cleaned150 = pd.read_csv('data/cleaned150.csv', index_col='Unnamed: 0')"
   ]
  },
  {
   "cell_type": "code",
   "execution_count": 5,
   "id": "4a731fb1",
   "metadata": {},
   "outputs": [
    {
     "data": {
      "text/html": [
       "<div>\n",
       "<style scoped>\n",
       "    .dataframe tbody tr th:only-of-type {\n",
       "        vertical-align: middle;\n",
       "    }\n",
       "\n",
       "    .dataframe tbody tr th {\n",
       "        vertical-align: top;\n",
       "    }\n",
       "\n",
       "    .dataframe thead th {\n",
       "        text-align: right;\n",
       "    }\n",
       "</style>\n",
       "<table border=\"1\" class=\"dataframe\">\n",
       "  <thead>\n",
       "    <tr style=\"text-align: right;\">\n",
       "      <th></th>\n",
       "      <th>Margin</th>\n",
       "      <th>Study</th>\n",
       "      <th>Most Common Choice</th>\n",
       "      <th>Average Choice</th>\n",
       "    </tr>\n",
       "  </thead>\n",
       "  <tbody>\n",
       "    <tr>\n",
       "      <th>Subj_1</th>\n",
       "      <td>-550</td>\n",
       "      <td>Steingroever2011</td>\n",
       "      <td>1</td>\n",
       "      <td>2.393333</td>\n",
       "    </tr>\n",
       "    <tr>\n",
       "      <th>Subj_2</th>\n",
       "      <td>-1600</td>\n",
       "      <td>Steingroever2011</td>\n",
       "      <td>2</td>\n",
       "      <td>2.313333</td>\n",
       "    </tr>\n",
       "    <tr>\n",
       "      <th>Subj_3</th>\n",
       "      <td>900</td>\n",
       "      <td>Steingroever2011</td>\n",
       "      <td>4</td>\n",
       "      <td>3.100000</td>\n",
       "    </tr>\n",
       "    <tr>\n",
       "      <th>Subj_4</th>\n",
       "      <td>2200</td>\n",
       "      <td>Steingroever2011</td>\n",
       "      <td>4</td>\n",
       "      <td>3.426667</td>\n",
       "    </tr>\n",
       "    <tr>\n",
       "      <th>Subj_5</th>\n",
       "      <td>1900</td>\n",
       "      <td>Steingroever2011</td>\n",
       "      <td>4</td>\n",
       "      <td>3.720000</td>\n",
       "    </tr>\n",
       "  </tbody>\n",
       "</table>\n",
       "</div>"
      ],
      "text/plain": [
       "        Margin             Study  Most Common Choice  Average Choice\n",
       "Subj_1    -550  Steingroever2011                   1        2.393333\n",
       "Subj_2   -1600  Steingroever2011                   2        2.313333\n",
       "Subj_3     900  Steingroever2011                   4        3.100000\n",
       "Subj_4    2200  Steingroever2011                   4        3.426667\n",
       "Subj_5    1900  Steingroever2011                   4        3.720000"
      ]
     },
     "execution_count": 5,
     "metadata": {},
     "output_type": "execute_result"
    }
   ],
   "source": [
    "cleaned150.head()"
   ]
  },
  {
   "cell_type": "code",
   "execution_count": null,
   "id": "be2a65af",
   "metadata": {},
   "outputs": [],
   "source": []
  }
 ],
 "metadata": {
  "kernelspec": {
   "display_name": "Python 3",
   "language": "python",
   "name": "python3"
  },
  "language_info": {
   "codemirror_mode": {
    "name": "ipython",
    "version": 3
   },
   "file_extension": ".py",
   "mimetype": "text/x-python",
   "name": "python",
   "nbconvert_exporter": "python",
   "pygments_lexer": "ipython3",
   "version": "3.8.8"
  }
 },
 "nbformat": 4,
 "nbformat_minor": 5
}
