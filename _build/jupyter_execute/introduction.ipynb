{
 "cells": [
  {
   "cell_type": "markdown",
   "id": "18fa1eb2",
   "metadata": {},
   "source": [
    "# Introduction - CA4015 First Assignment\n",
    "\n",
    "## Iowa Gambling Task\n",
    "The [Iowa Gambling Task](https://www.youtube.com/watch?v=A6SsQIyJMhs)(IGT) is a pyscological card game thought to portray real world decision making and help understand how and why people make decisions. Typically, the particpiants start with a loan of $2000 and are typically given a deck of four cards to pick from. The deck either rewards or punishes the particpiant each time and the end goal of the game is to make more money than what they started with. \n",
    "\n",
    "\n",
    "![](https://media.imotions.com/images/20190528132235/The-Iowa-Gambling-Task-%E2%80%93-No-Dice-All-Science.jpg)"
   ]
  },
  {
   "cell_type": "markdown",
   "id": "2bcb9176",
   "metadata": {},
   "source": [
    "### Dataset\n",
    "For the purpose of this assignment there is varying trial lengths for each task. Typically, the task is run in 100 trials but in this instance we have a 95 trial, 100 trial and 150 trial experiments. We were given a variety of data for the trials. There were 617 particpiants across all the studies and all were reported as \"healthy\". We had each subjects choice on their respective trial, their winnings on the respective rounds combined with their losses for each round. We also had an \"index\" file which told us which study the subject was part of. An overview of our data and other information such as the particpiant demographics can be seen [here](https://openpsychologydata.metajnl.com/articles/10.5334/jopd.ak/).\n",
    "\n",
    "### Methodology\n",
    "Initially, we start by breaking down the data and seeing any interesting trends. We try to see which studies produced the highest winnings/losses and how subjects decision making flowed over time (i.e. did they consistently win small or try change strategy by going for broke and another set of cards). We try to combine this with the background demographic information provided to see can we tell anything from the studies. We then cluster the data accordingly by winnings and studys to detect any trends and try tell a story from the data."
   ]
  },
  {
   "cell_type": "code",
   "execution_count": null,
   "id": "ab68739c",
   "metadata": {},
   "outputs": [],
   "source": []
  }
 ],
 "metadata": {
  "kernelspec": {
   "display_name": "Python 3",
   "language": "python",
   "name": "python3"
  },
  "language_info": {
   "codemirror_mode": {
    "name": "ipython",
    "version": 3
   },
   "file_extension": ".py",
   "mimetype": "text/x-python",
   "name": "python",
   "nbconvert_exporter": "python",
   "pygments_lexer": "ipython3",
   "version": "3.9.7"
  }
 },
 "nbformat": 4,
 "nbformat_minor": 5
}