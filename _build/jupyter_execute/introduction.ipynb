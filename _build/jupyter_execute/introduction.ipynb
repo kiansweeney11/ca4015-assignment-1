{
 "cells": [
  {
   "cell_type": "markdown",
   "id": "18fa1eb2",
   "metadata": {},
   "source": [
    "# Introduction - CA4015 First Assignment\n",
    "\n",
    "## Iowa Gambling Task\n",
    "The [Iowa Gambling Task](https://www.youtube.com/watch?v=A6SsQIyJMhs)(IGT) is a pyscological card game thought to portray real world decision making and help understand how and why people make decisions. Typically, the particpiants start with a loan of $2000 and are typically given a deck of four cards to pick from. The deck either rewards or punishes the particpiant each time and the end goal of the game is to make more money than what they started with. \n",
    "\n",
    "\n",
    "![](https://media.imotions.com/images/20190528132235/The-Iowa-Gambling-Task-%E2%80%93-No-Dice-All-Science.jpg)"
   ]
  },
  {
   "cell_type": "markdown",
   "id": "2bcb9176",
   "metadata": {},
   "source": [
    "There is typically 100 runs of the experiment and the decks are set up in a way that some reward the particpiant over time while others negatively impact the user over time. The decks that affect the user over time tend to have big rewards from time to time while at the same time lose the user money if they go for that deck regularly. Other decks then use smaller rewards and a more risk averse method of playing. "
   ]
  }
 ],
 "metadata": {
  "kernelspec": {
   "display_name": "Python 3",
   "language": "python",
   "name": "python3"
  },
  "language_info": {
   "codemirror_mode": {
    "name": "ipython",
    "version": 3
   },
   "file_extension": ".py",
   "mimetype": "text/x-python",
   "name": "python",
   "nbconvert_exporter": "python",
   "pygments_lexer": "ipython3",
   "version": "3.9.7"
  }
 },
 "nbformat": 4,
 "nbformat_minor": 5
}