{
 "cells": [
  {
   "cell_type": "markdown",
   "id": "49210ef7",
   "metadata": {},
   "source": [
    "# 1. Data Analysis and Experiments\n",
    "## Read in data"
   ]
  },
  {
   "cell_type": "code",
   "execution_count": 1,
   "id": "95f4639f",
   "metadata": {},
   "outputs": [
    {
     "ename": "ModuleNotFoundError",
     "evalue": "No module named 'pandas'",
     "output_type": "error",
     "traceback": [
      "\u001b[1;31m---------------------------------------------------------------------------\u001b[0m",
      "\u001b[1;31mModuleNotFoundError\u001b[0m                       Traceback (most recent call last)",
      "\u001b[1;32m~\\AppData\\Local\\Temp/ipykernel_13912/950747112.py\u001b[0m in \u001b[0;36m<module>\u001b[1;34m\u001b[0m\n\u001b[1;32m----> 1\u001b[1;33m \u001b[1;32mimport\u001b[0m \u001b[0mpandas\u001b[0m \u001b[1;32mas\u001b[0m \u001b[0mpd\u001b[0m\u001b[1;33m\u001b[0m\u001b[1;33m\u001b[0m\u001b[0m\n\u001b[0m\u001b[0;32m      2\u001b[0m \u001b[1;32mimport\u001b[0m \u001b[0mmatplotlib\u001b[0m\u001b[1;33m.\u001b[0m\u001b[0mpyplot\u001b[0m \u001b[1;32mas\u001b[0m \u001b[0mplt\u001b[0m\u001b[1;33m\u001b[0m\u001b[1;33m\u001b[0m\u001b[0m\n\u001b[0;32m      3\u001b[0m \u001b[1;32mimport\u001b[0m \u001b[0mnumpy\u001b[0m \u001b[1;32mas\u001b[0m \u001b[0mnp\u001b[0m\u001b[1;33m\u001b[0m\u001b[1;33m\u001b[0m\u001b[0m\n\u001b[0;32m      4\u001b[0m \u001b[1;32mimport\u001b[0m \u001b[0mseaborn\u001b[0m \u001b[1;32mas\u001b[0m \u001b[0msns\u001b[0m\u001b[1;33m\u001b[0m\u001b[1;33m\u001b[0m\u001b[0m\n",
      "\u001b[1;31mModuleNotFoundError\u001b[0m: No module named 'pandas'"
     ]
    }
   ],
   "source": [
    "import pandas as pd\n",
    "import matplotlib.pyplot as plt\n",
    "import numpy as np\n",
    "import seaborn as sns"
   ]
  },
  {
   "cell_type": "code",
   "execution_count": 2,
   "id": "315c0f39",
   "metadata": {},
   "outputs": [
    {
     "data": {
      "text/html": [
       "<div>\n",
       "<style scoped>\n",
       "    .dataframe tbody tr th:only-of-type {\n",
       "        vertical-align: middle;\n",
       "    }\n",
       "\n",
       "    .dataframe tbody tr th {\n",
       "        vertical-align: top;\n",
       "    }\n",
       "\n",
       "    .dataframe thead th {\n",
       "        text-align: right;\n",
       "    }\n",
       "</style>\n",
       "<table border=\"1\" class=\"dataframe\">\n",
       "  <thead>\n",
       "    <tr style=\"text-align: right;\">\n",
       "      <th></th>\n",
       "      <th>Choice_1</th>\n",
       "      <th>Choice_2</th>\n",
       "      <th>Choice_3</th>\n",
       "      <th>Choice_4</th>\n",
       "      <th>Choice_5</th>\n",
       "      <th>Choice_6</th>\n",
       "      <th>Choice_7</th>\n",
       "      <th>Choice_8</th>\n",
       "      <th>Choice_9</th>\n",
       "      <th>Choice_10</th>\n",
       "      <th>...</th>\n",
       "      <th>Choice_91</th>\n",
       "      <th>Choice_92</th>\n",
       "      <th>Choice_93</th>\n",
       "      <th>Choice_94</th>\n",
       "      <th>Choice_95</th>\n",
       "      <th>Choice_96</th>\n",
       "      <th>Choice_97</th>\n",
       "      <th>Choice_98</th>\n",
       "      <th>Choice_99</th>\n",
       "      <th>Choice_100</th>\n",
       "    </tr>\n",
       "  </thead>\n",
       "  <tbody>\n",
       "    <tr>\n",
       "      <th>Subj_1</th>\n",
       "      <td>1</td>\n",
       "      <td>1</td>\n",
       "      <td>2</td>\n",
       "      <td>4</td>\n",
       "      <td>3</td>\n",
       "      <td>2</td>\n",
       "      <td>1</td>\n",
       "      <td>2</td>\n",
       "      <td>4</td>\n",
       "      <td>2</td>\n",
       "      <td>...</td>\n",
       "      <td>1</td>\n",
       "      <td>1</td>\n",
       "      <td>1</td>\n",
       "      <td>2</td>\n",
       "      <td>2</td>\n",
       "      <td>2</td>\n",
       "      <td>4</td>\n",
       "      <td>2</td>\n",
       "      <td>4</td>\n",
       "      <td>2</td>\n",
       "    </tr>\n",
       "    <tr>\n",
       "      <th>Subj_2</th>\n",
       "      <td>2</td>\n",
       "      <td>1</td>\n",
       "      <td>4</td>\n",
       "      <td>4</td>\n",
       "      <td>3</td>\n",
       "      <td>2</td>\n",
       "      <td>3</td>\n",
       "      <td>2</td>\n",
       "      <td>1</td>\n",
       "      <td>2</td>\n",
       "      <td>...</td>\n",
       "      <td>4</td>\n",
       "      <td>2</td>\n",
       "      <td>3</td>\n",
       "      <td>4</td>\n",
       "      <td>2</td>\n",
       "      <td>4</td>\n",
       "      <td>4</td>\n",
       "      <td>2</td>\n",
       "      <td>2</td>\n",
       "      <td>4</td>\n",
       "    </tr>\n",
       "    <tr>\n",
       "      <th>Subj_3</th>\n",
       "      <td>4</td>\n",
       "      <td>2</td>\n",
       "      <td>3</td>\n",
       "      <td>1</td>\n",
       "      <td>4</td>\n",
       "      <td>2</td>\n",
       "      <td>4</td>\n",
       "      <td>4</td>\n",
       "      <td>4</td>\n",
       "      <td>3</td>\n",
       "      <td>...</td>\n",
       "      <td>3</td>\n",
       "      <td>2</td>\n",
       "      <td>1</td>\n",
       "      <td>4</td>\n",
       "      <td>2</td>\n",
       "      <td>2</td>\n",
       "      <td>2</td>\n",
       "      <td>4</td>\n",
       "      <td>2</td>\n",
       "      <td>2</td>\n",
       "    </tr>\n",
       "    <tr>\n",
       "      <th>Subj_4</th>\n",
       "      <td>4</td>\n",
       "      <td>3</td>\n",
       "      <td>4</td>\n",
       "      <td>2</td>\n",
       "      <td>1</td>\n",
       "      <td>4</td>\n",
       "      <td>3</td>\n",
       "      <td>2</td>\n",
       "      <td>2</td>\n",
       "      <td>2</td>\n",
       "      <td>...</td>\n",
       "      <td>4</td>\n",
       "      <td>2</td>\n",
       "      <td>3</td>\n",
       "      <td>4</td>\n",
       "      <td>3</td>\n",
       "      <td>4</td>\n",
       "      <td>1</td>\n",
       "      <td>4</td>\n",
       "      <td>3</td>\n",
       "      <td>4</td>\n",
       "    </tr>\n",
       "    <tr>\n",
       "      <th>Subj_5</th>\n",
       "      <td>1</td>\n",
       "      <td>2</td>\n",
       "      <td>2</td>\n",
       "      <td>2</td>\n",
       "      <td>2</td>\n",
       "      <td>3</td>\n",
       "      <td>4</td>\n",
       "      <td>1</td>\n",
       "      <td>4</td>\n",
       "      <td>1</td>\n",
       "      <td>...</td>\n",
       "      <td>2</td>\n",
       "      <td>2</td>\n",
       "      <td>2</td>\n",
       "      <td>2</td>\n",
       "      <td>3</td>\n",
       "      <td>3</td>\n",
       "      <td>3</td>\n",
       "      <td>3</td>\n",
       "      <td>4</td>\n",
       "      <td>4</td>\n",
       "    </tr>\n",
       "  </tbody>\n",
       "</table>\n",
       "<p>5 rows × 100 columns</p>\n",
       "</div>"
      ],
      "text/plain": [
       "        Choice_1  Choice_2  Choice_3  Choice_4  Choice_5  Choice_6  Choice_7  \\\n",
       "Subj_1         1         1         2         4         3         2         1   \n",
       "Subj_2         2         1         4         4         3         2         3   \n",
       "Subj_3         4         2         3         1         4         2         4   \n",
       "Subj_4         4         3         4         2         1         4         3   \n",
       "Subj_5         1         2         2         2         2         3         4   \n",
       "\n",
       "        Choice_8  Choice_9  Choice_10  ...  Choice_91  Choice_92  Choice_93  \\\n",
       "Subj_1         2         4          2  ...          1          1          1   \n",
       "Subj_2         2         1          2  ...          4          2          3   \n",
       "Subj_3         4         4          3  ...          3          2          1   \n",
       "Subj_4         2         2          2  ...          4          2          3   \n",
       "Subj_5         1         4          1  ...          2          2          2   \n",
       "\n",
       "        Choice_94  Choice_95  Choice_96  Choice_97  Choice_98  Choice_99  \\\n",
       "Subj_1          2          2          2          4          2          4   \n",
       "Subj_2          4          2          4          4          2          2   \n",
       "Subj_3          4          2          2          2          4          2   \n",
       "Subj_4          4          3          4          1          4          3   \n",
       "Subj_5          2          3          3          3          3          4   \n",
       "\n",
       "        Choice_100  \n",
       "Subj_1           2  \n",
       "Subj_2           4  \n",
       "Subj_3           2  \n",
       "Subj_4           4  \n",
       "Subj_5           4  \n",
       "\n",
       "[5 rows x 100 columns]"
      ]
     },
     "execution_count": 2,
     "metadata": {},
     "output_type": "execute_result"
    }
   ],
   "source": [
    "df = pd.read_csv('data/choice_100.csv')\n",
    "df.head()"
   ]
  },
  {
   "cell_type": "code",
   "execution_count": 3,
   "id": "d2439f46",
   "metadata": {},
   "outputs": [],
   "source": [
    "index95 = pd.read_csv('data/index_95.csv')\n",
    "index100 = pd.read_csv('data/index_100.csv')\n",
    "index150 = pd.read_csv('data/index_150.csv')"
   ]
  },
  {
   "cell_type": "markdown",
   "id": "34e4fd00",
   "metadata": {},
   "source": [
    "# Initial data exploration - How many per study made profit?"
   ]
  },
  {
   "cell_type": "markdown",
   "id": "322b089c",
   "metadata": {},
   "source": [
    "Here we check the study that used 95 trials of the experiment and see how many of the 15 subjects made profit."
   ]
  },
  {
   "cell_type": "code",
   "execution_count": 4,
   "id": "55aeb066",
   "metadata": {},
   "outputs": [
    {
     "data": {
      "text/plain": [
       "Subj_1   -4650\n",
       "Subj_2   -7925\n",
       "Subj_3   -7850\n",
       "Subj_4   -7525\n",
       "Subj_5   -6350\n",
       "dtype: int64"
      ]
     },
     "execution_count": 4,
     "metadata": {},
     "output_type": "execute_result"
    }
   ],
   "source": [
    "win95 = pd.read_csv('data/wi_95.csv')\n",
    "loss95 = pd.read_csv('data/lo_95.csv')\n",
    "totalloss95 = loss95.sum(axis=1)\n",
    "totalloss95.head()"
   ]
  },
  {
   "cell_type": "code",
   "execution_count": 5,
   "id": "9382f873",
   "metadata": {},
   "outputs": [
    {
     "data": {
      "text/plain": [
       "Subj_1    5800\n",
       "Subj_2    7250\n",
       "Subj_3    7100\n",
       "Subj_4    7000\n",
       "Subj_5    6450\n",
       "dtype: int64"
      ]
     },
     "execution_count": 5,
     "metadata": {},
     "output_type": "execute_result"
    }
   ],
   "source": [
    "totalwin95 = win95.sum(axis=1)\n",
    "totalwin95.head()"
   ]
  },
  {
   "cell_type": "code",
   "execution_count": 6,
   "id": "0dc695c9",
   "metadata": {},
   "outputs": [
    {
     "data": {
      "text/plain": [
       "Subj_1    1150\n",
       "Subj_2    -675\n",
       "Subj_3    -750\n",
       "Subj_4    -525\n",
       "Subj_5     100\n",
       "dtype: int64"
      ]
     },
     "execution_count": 6,
     "metadata": {},
     "output_type": "execute_result"
    }
   ],
   "source": [
    "margin95 = totalwin95 + totalloss95\n",
    "margin95.head()"
   ]
  },
  {
   "cell_type": "code",
   "execution_count": 7,
   "id": "49722926",
   "metadata": {},
   "outputs": [
    {
     "data": {
      "text/plain": [
       "<matplotlib.lines.Line2D at 0x1c611ab4eb0>"
      ]
     },
     "execution_count": 7,
     "metadata": {},
     "output_type": "execute_result"
    },
    {
     "data": {
      "image/png": "[encoded data removed]",
      "text/plain": [
       "<Figure size 432x288 with 1 Axes>"
      ]
     },
     "metadata": {
      "filenames": {
       "image/png": "C:\\Users\\user\\Desktop\\ca4015-assignment-1\\_build\\jupyter_execute\\data-analysis_9_1.png"
      },
      "needs_background": "light"
     },
     "output_type": "display_data"
    }
   ],
   "source": [
    "columns = ['Margin']\n",
    "\n",
    "margin95df = pd.DataFrame(margin95, columns=columns)\n",
    "margin95df\n",
    "ax1 = margin95df.plot.kde(title='Density plot of Profit/Loss margin for 95 people experiments', color='turquoise')\n",
    "ax1.axvline(x=0, linestyle='--', color='red')"
   ]
  },
  {
   "cell_type": "code",
   "execution_count": 8,
   "id": "39b00a0a",
   "metadata": {},
   "outputs": [
    {
     "data": {
      "text/plain": [
       "7"
      ]
     },
     "execution_count": 8,
     "metadata": {},
     "output_type": "execute_result"
    }
   ],
   "source": [
    "sum(margin95df.select_dtypes(np.number).gt(0).sum(axis=1))"
   ]
  },
  {
   "cell_type": "markdown",
   "id": "0f5bedc6",
   "metadata": {},
   "source": [
    "Under half (7/15) of the participants made profit in the 95 trial experiment. We now do the same for both the 100 trial and 150 trial experiments"
   ]
  },
  {
   "cell_type": "code",
   "execution_count": 9,
   "id": "5f1b9b74",
   "metadata": {},
   "outputs": [
    {
     "data": {
      "text/plain": [
       "Subj_1   -9950\n",
       "Subj_2   -8250\n",
       "Subj_3   -8600\n",
       "Subj_4   -5650\n",
       "Subj_5   -8600\n",
       "dtype: int64"
      ]
     },
     "execution_count": 9,
     "metadata": {},
     "output_type": "execute_result"
    }
   ],
   "source": [
    "win100 = pd.read_csv('data/wi_100.csv')\n",
    "loss100 = pd.read_csv('data/lo_100.csv')\n",
    "totalloss100 = loss100.sum(axis=1)\n",
    "totalloss100.head()"
   ]
  },
  {
   "cell_type": "code",
   "execution_count": 10,
   "id": "91fe9c21",
   "metadata": {},
   "outputs": [
    {
     "data": {
      "text/plain": [
       "Subj_1    8150\n",
       "Subj_2    7450\n",
       "Subj_3    8150\n",
       "Subj_4    6850\n",
       "Subj_5    7300\n",
       "dtype: int64"
      ]
     },
     "execution_count": 10,
     "metadata": {},
     "output_type": "execute_result"
    }
   ],
   "source": [
    "totalwin100 = win100.sum(axis=1)\n",
    "totalwin100.head()"
   ]
  },
  {
   "cell_type": "code",
   "execution_count": 11,
   "id": "f25c5c29",
   "metadata": {},
   "outputs": [
    {
     "data": {
      "text/plain": [
       "Subj_1   -1800\n",
       "Subj_2    -800\n",
       "Subj_3    -450\n",
       "Subj_4    1200\n",
       "Subj_5   -1300\n",
       "dtype: int64"
      ]
     },
     "execution_count": 11,
     "metadata": {},
     "output_type": "execute_result"
    }
   ],
   "source": [
    "margin100 = totalwin100 + totalloss100\n",
    "margin100.head()"
   ]
  },
  {
   "cell_type": "code",
   "execution_count": 12,
   "id": "5337e5d9",
   "metadata": {},
   "outputs": [
    {
     "data": {
      "text/plain": [
       "<matplotlib.lines.Line2D at 0x1c61330ea60>"
      ]
     },
     "execution_count": 12,
     "metadata": {},
     "output_type": "execute_result"
    },
    {
     "data": {
      "image/png": "[encoded data removed]",
      "text/plain": [
       "<Figure size 432x288 with 1 Axes>"
      ]
     },
     "metadata": {
      "filenames": {
       "image/png": "C:\\Users\\user\\Desktop\\ca4015-assignment-1\\_build\\jupyter_execute\\data-analysis_15_1.png"
      },
      "needs_background": "light"
     },
     "output_type": "display_data"
    }
   ],
   "source": [
    "columns = ['Margin']\n",
    "\n",
    "margin100df = pd.DataFrame(margin100, columns=columns)\n",
    "margin100df\n",
    "ax2 = margin100df.plot.kde(title='Density plot of Profit/Loss margin for 100 people experiments', color='turquoise')\n",
    "ax2.axvline(x=0, linestyle='--', color='red')"
   ]
  },
  {
   "cell_type": "code",
   "execution_count": 13,
   "id": "a07f7098",
   "metadata": {},
   "outputs": [
    {
     "data": {
      "text/plain": [
       "208"
      ]
     },
     "execution_count": 13,
     "metadata": {},
     "output_type": "execute_result"
    }
   ],
   "source": [
    "sum(margin100df.select_dtypes(np.number).gt(0).sum(axis=1))"
   ]
  },
  {
   "cell_type": "markdown",
   "id": "9121e6d9",
   "metadata": {},
   "source": [
    "Only 41% of participants in the 100 trial experiment made money!"
   ]
  },
  {
   "cell_type": "code",
   "execution_count": 14,
   "id": "73a5bd42",
   "metadata": {},
   "outputs": [
    {
     "data": {
      "text/plain": [
       "Subj_1   -12200\n",
       "Subj_2   -13950\n",
       "Subj_3    -9300\n",
       "Subj_4    -6750\n",
       "Subj_5    -6300\n",
       "dtype: int64"
      ]
     },
     "execution_count": 14,
     "metadata": {},
     "output_type": "execute_result"
    }
   ],
   "source": [
    "win150 = pd.read_csv('data/wi_150.csv')\n",
    "loss150 = pd.read_csv('data/lo_150.csv')\n",
    "totalloss150 = loss150.sum(axis=1)\n",
    "totalloss150.head()"
   ]
  },
  {
   "cell_type": "code",
   "execution_count": 15,
   "id": "4ed8f0ab",
   "metadata": {},
   "outputs": [
    {
     "data": {
      "text/plain": [
       "Subj_1    11650\n",
       "Subj_2    12350\n",
       "Subj_3    10200\n",
       "Subj_4     8950\n",
       "Subj_5     8200\n",
       "dtype: int64"
      ]
     },
     "execution_count": 15,
     "metadata": {},
     "output_type": "execute_result"
    }
   ],
   "source": [
    "totalwin150 = win150.sum(axis=1)\n",
    "totalwin150.head()"
   ]
  },
  {
   "cell_type": "code",
   "execution_count": 16,
   "id": "7ebed416",
   "metadata": {},
   "outputs": [
    {
     "data": {
      "text/plain": [
       "Subj_1    -550\n",
       "Subj_2   -1600\n",
       "Subj_3     900\n",
       "Subj_4    2200\n",
       "Subj_5    1900\n",
       "dtype: int64"
      ]
     },
     "execution_count": 16,
     "metadata": {},
     "output_type": "execute_result"
    }
   ],
   "source": [
    "margin150 = totalwin150 + totalloss150\n",
    "margin150.head()"
   ]
  },
  {
   "cell_type": "code",
   "execution_count": 17,
   "id": "dfa8c875",
   "metadata": {},
   "outputs": [
    {
     "data": {
      "text/plain": [
       "<matplotlib.lines.Line2D at 0x1c613363d60>"
      ]
     },
     "execution_count": 17,
     "metadata": {},
     "output_type": "execute_result"
    },
    {
     "data": {
      "image/png": "[encoded data removed]",
      "text/plain": [
       "<Figure size 432x288 with 1 Axes>"
      ]
     },
     "metadata": {
      "filenames": {
       "image/png": "C:\\Users\\user\\Desktop\\ca4015-assignment-1\\_build\\jupyter_execute\\data-analysis_21_1.png"
      },
      "needs_background": "light"
     },
     "output_type": "display_data"
    }
   ],
   "source": [
    "columns = ['Margin']\n",
    "\n",
    "margin150df = pd.DataFrame(margin150, columns=columns)\n",
    "margin150df\n",
    "ax = margin150df.plot.kde(title='Density plot of Profit/Loss margin for 150 people experiments', color='turquoise')\n",
    "ax.axvline(x=0, linestyle='--', color='red')"
   ]
  },
  {
   "cell_type": "code",
   "execution_count": 18,
   "id": "6f38f9fe",
   "metadata": {},
   "outputs": [
    {
     "data": {
      "text/plain": [
       "62"
      ]
     },
     "execution_count": 18,
     "metadata": {},
     "output_type": "execute_result"
    }
   ],
   "source": [
    "sum(margin150df.select_dtypes(np.number).gt(0).sum(axis=1))"
   ]
  },
  {
   "cell_type": "markdown",
   "id": "33a38d64",
   "metadata": {},
   "source": [
    "There is a much higher % of people making profit in the 150 trial experiment (63%). There is far less people taking part in this experiment than the 100 trial experiment but it may be worth drilling down further into the data to check the differences between the different groups undertaking the experiments here. It might be interesting to see if there is any trends surrounding the age profiles surveyed. We will now try to combine the study groups with our \"margin\" results."
   ]
  },
  {
   "cell_type": "markdown",
   "id": "9b32446c",
   "metadata": {},
   "source": [
    "### Adding in Study undertakers to participant data"
   ]
  },
  {
   "cell_type": "code",
   "execution_count": 21,
   "id": "111be95e",
   "metadata": {},
   "outputs": [],
   "source": [
    "margin95df['Study'] = index95['Study'].values"
   ]
  },
  {
   "cell_type": "code",
   "execution_count": 24,
   "id": "e9062351",
   "metadata": {},
   "outputs": [],
   "source": [
    "margin150df['Study'] = index150['Study'].values"
   ]
  },
  {
   "cell_type": "code",
   "execution_count": 26,
   "id": "13fbbbeb",
   "metadata": {},
   "outputs": [],
   "source": [
    "margin100df['Study'] = index100['Study'].values"
   ]
  },
  {
   "cell_type": "markdown",
   "id": "d653bf54",
   "metadata": {},
   "source": [
    "Here we will investigate the Study groups in the 150 person experiment. We will try to see does one group achieve better results in the task than the other."
   ]
  },
  {
   "cell_type": "code",
   "execution_count": 28,
   "id": "7183a86f",
   "metadata": {},
   "outputs": [
    {
     "data": {
      "text/plain": [
       "Steingroever2011    57\n",
       "Wetzels             41\n",
       "Name: Study, dtype: int64"
      ]
     },
     "execution_count": 28,
     "metadata": {},
     "output_type": "execute_result"
    }
   ],
   "source": [
    "margin150df['Study'].value_counts()"
   ]
  },
  {
   "cell_type": "code",
   "execution_count": 29,
   "id": "677da08a",
   "metadata": {},
   "outputs": [
    {
     "name": "stdout",
     "output_type": "stream",
     "text": [
      "Profit for the 150 trial Wetzels study\n"
     ]
    },
    {
     "data": {
      "text/plain": [
       "24000"
      ]
     },
     "execution_count": 29,
     "metadata": {},
     "output_type": "execute_result"
    }
   ],
   "source": [
    "print(\"Profit for the 150 trial Wetzels study\")\n",
    "margin150df.loc[margin150df['Study'] == 'Wetzels', 'Margin'].sum()"
   ]
  },
  {
   "cell_type": "code",
   "execution_count": 30,
   "id": "953f9aba",
   "metadata": {},
   "outputs": [
    {
     "name": "stdout",
     "output_type": "stream",
     "text": [
      "Profit for the 150 trial Steingroever2011 study\n"
     ]
    },
    {
     "data": {
      "text/plain": [
       "12550"
      ]
     },
     "execution_count": 30,
     "metadata": {},
     "output_type": "execute_result"
    }
   ],
   "source": [
    "print(\"Profit for the 150 trial Steingroever2011 study\")\n",
    "margin150df.loc[margin150df['Study'] == 'Steingroever2011', 'Margin'].sum()"
   ]
  },
  {
   "cell_type": "markdown",
   "id": "338efa99",
   "metadata": {},
   "source": [
    "### Assessment of 150 margin results for each study\n",
    "This is interesting to note these values. Both studies make a large cumulative profit over the course of the 150 trials undertaken. There is a net profit between the two studies of 36,550 dollars, almost an average profit of 375 dollars per participant. It is interesting to note that the 41 students in \"Wetzels\" study were exclusively students, while in Steingroever2011's study there was a young average age (19.9) but no specific mention of if the participants were students or not. Although they made money it was almost half of the other group studied. We will measure this against the other datasets to see if age is a factor between the decision making of the groups."
   ]
  },
  {
   "cell_type": "code",
   "execution_count": 31,
   "id": "ec5b0974",
   "metadata": {},
   "outputs": [
    {
     "data": {
      "text/plain": [
       "Horstmann            162\n",
       "Wood                 153\n",
       "SteingroverInPrep     70\n",
       "Maia                  40\n",
       "Worthy                35\n",
       "Premkumar             25\n",
       "Kjome                 19\n",
       "Name: Study, dtype: int64"
      ]
     },
     "execution_count": 31,
     "metadata": {},
     "output_type": "execute_result"
    }
   ],
   "source": [
    "margin100df['Study'].value_counts()"
   ]
  },
  {
   "cell_type": "code",
   "execution_count": 32,
   "id": "895714bf",
   "metadata": {},
   "outputs": [
    {
     "name": "stdout",
     "output_type": "stream",
     "text": [
      "Loss for the 100 trial Horstmann study\n"
     ]
    },
    {
     "data": {
      "text/plain": [
       "-6200"
      ]
     },
     "execution_count": 32,
     "metadata": {},
     "output_type": "execute_result"
    }
   ],
   "source": [
    "print(\"Loss for the 100 trial Horstmann study\")\n",
    "margin100df.loc[margin100df['Study'] == 'Horstmann', 'Margin'].sum()"
   ]
  },
  {
   "cell_type": "code",
   "execution_count": 33,
   "id": "79d00511",
   "metadata": {},
   "outputs": [
    {
     "name": "stdout",
     "output_type": "stream",
     "text": [
      "Loss for the 100 trial Wood study\n"
     ]
    },
    {
     "data": {
      "text/plain": [
       "-119410"
      ]
     },
     "execution_count": 33,
     "metadata": {},
     "output_type": "execute_result"
    }
   ],
   "source": [
    "print(\"Loss for the 100 trial Wood study\")\n",
    "margin100df.loc[margin100df['Study'] == 'Wood', 'Margin'].sum()"
   ]
  },
  {
   "cell_type": "code",
   "execution_count": 34,
   "id": "fcb8a6cb",
   "metadata": {},
   "outputs": [
    {
     "name": "stdout",
     "output_type": "stream",
     "text": [
      "Loss for the 100 trial SteingroverInPrep study\n"
     ]
    },
    {
     "data": {
      "text/plain": [
       "-4700"
      ]
     },
     "execution_count": 34,
     "metadata": {},
     "output_type": "execute_result"
    }
   ],
   "source": [
    "print(\"Loss for the 100 trial SteingroverInPrep study\")\n",
    "margin100df.loc[margin100df['Study'] == 'SteingroverInPrep', 'Margin'].sum()"
   ]
  },
  {
   "cell_type": "code",
   "execution_count": 35,
   "id": "84cb8751",
   "metadata": {},
   "outputs": [
    {
     "name": "stdout",
     "output_type": "stream",
     "text": [
      "Profit for the 100 trial Maia study\n"
     ]
    },
    {
     "data": {
      "text/plain": [
       "13600"
      ]
     },
     "execution_count": 35,
     "metadata": {},
     "output_type": "execute_result"
    }
   ],
   "source": [
    "print(\"Profit for the 100 trial Maia study\")\n",
    "margin100df.loc[margin100df['Study'] == 'Maia', 'Margin'].sum()"
   ]
  },
  {
   "cell_type": "code",
   "execution_count": 36,
   "id": "b1ed1c1d",
   "metadata": {},
   "outputs": [
    {
     "name": "stdout",
     "output_type": "stream",
     "text": [
      "Loss for the 100 trial Worthy study\n"
     ]
    },
    {
     "data": {
      "text/plain": [
       "-15100"
      ]
     },
     "execution_count": 36,
     "metadata": {},
     "output_type": "execute_result"
    }
   ],
   "source": [
    "print(\"Loss for the 100 trial Worthy study\")\n",
    "margin100df.loc[margin100df['Study'] == 'Worthy', 'Margin'].sum()"
   ]
  },
  {
   "cell_type": "code",
   "execution_count": 37,
   "id": "458912a6",
   "metadata": {},
   "outputs": [
    {
     "name": "stdout",
     "output_type": "stream",
     "text": [
      "Profit for the 100 trial Premkumar study\n"
     ]
    },
    {
     "data": {
      "text/plain": [
       "5995"
      ]
     },
     "execution_count": 37,
     "metadata": {},
     "output_type": "execute_result"
    }
   ],
   "source": [
    "print(\"Profit for the 100 trial Premkumar study\")\n",
    "margin100df.loc[margin100df['Study'] == 'Premkumar', 'Margin'].sum()"
   ]
  },
  {
   "cell_type": "code",
   "execution_count": 38,
   "id": "e3553cfa",
   "metadata": {},
   "outputs": [
    {
     "name": "stdout",
     "output_type": "stream",
     "text": [
      "Loss for the 100 trial Kjome study\n"
     ]
    },
    {
     "data": {
      "text/plain": [
       "-8750"
      ]
     },
     "execution_count": 38,
     "metadata": {},
     "output_type": "execute_result"
    }
   ],
   "source": [
    "print(\"Loss for the 100 trial Kjome study\")\n",
    "margin100df.loc[margin100df['Study'] == 'Kjome', 'Margin'].sum()"
   ]
  },
  {
   "cell_type": "markdown",
   "id": "151c3c92",
   "metadata": {},
   "source": [
    "### Assessment of margin for 100 trial experiments\n",
    "The results here are in stark contrast to the 150 trial experiments. Despite less trials there is some significant losses accumalated by participants. Although the study conducted by Wood has a large number of participants in 153, the loss of 119,410 is certainly a major outlier. This equates to an average loss of roughly 780 dollars per person. It is particularly interesting to note [here](https://openpsychologydata.metajnl.com/articles/10.5334/jopd.ak/) in table 1, we see this group has the oldest average age of any group in the study by some distance. The next oldest average age specified actually makes a profit (Premkumar). Again we see students with strong results in the Maia study as undergraduate students here make a strong profit, similar to the groups in the 150 trial experiments. We now check the 95 trial study as our last part of our margin analysis. "
   ]
  },
  {
   "cell_type": "code",
   "execution_count": 39,
   "id": "398740c0",
   "metadata": {},
   "outputs": [
    {
     "data": {
      "text/html": [
       "<div>\n",
       "<style scoped>\n",
       "    .dataframe tbody tr th:only-of-type {\n",
       "        vertical-align: middle;\n",
       "    }\n",
       "\n",
       "    .dataframe tbody tr th {\n",
       "        vertical-align: top;\n",
       "    }\n",
       "\n",
       "    .dataframe thead th {\n",
       "        text-align: right;\n",
       "    }\n",
       "</style>\n",
       "<table border=\"1\" class=\"dataframe\">\n",
       "  <thead>\n",
       "    <tr style=\"text-align: right;\">\n",
       "      <th></th>\n",
       "      <th>Margin</th>\n",
       "      <th>Study</th>\n",
       "    </tr>\n",
       "  </thead>\n",
       "  <tbody>\n",
       "    <tr>\n",
       "      <th>Subj_1</th>\n",
       "      <td>1150</td>\n",
       "      <td>Fridberg</td>\n",
       "    </tr>\n",
       "    <tr>\n",
       "      <th>Subj_2</th>\n",
       "      <td>-675</td>\n",
       "      <td>Fridberg</td>\n",
       "    </tr>\n",
       "    <tr>\n",
       "      <th>Subj_3</th>\n",
       "      <td>-750</td>\n",
       "      <td>Fridberg</td>\n",
       "    </tr>\n",
       "    <tr>\n",
       "      <th>Subj_4</th>\n",
       "      <td>-525</td>\n",
       "      <td>Fridberg</td>\n",
       "    </tr>\n",
       "    <tr>\n",
       "      <th>Subj_5</th>\n",
       "      <td>100</td>\n",
       "      <td>Fridberg</td>\n",
       "    </tr>\n",
       "  </tbody>\n",
       "</table>\n",
       "</div>"
      ],
      "text/plain": [
       "        Margin     Study\n",
       "Subj_1    1150  Fridberg\n",
       "Subj_2    -675  Fridberg\n",
       "Subj_3    -750  Fridberg\n",
       "Subj_4    -525  Fridberg\n",
       "Subj_5     100  Fridberg"
      ]
     },
     "execution_count": 39,
     "metadata": {},
     "output_type": "execute_result"
    }
   ],
   "source": [
    "margin95df.head()"
   ]
  },
  {
   "cell_type": "code",
   "execution_count": 40,
   "id": "194c995e",
   "metadata": {},
   "outputs": [
    {
     "name": "stdout",
     "output_type": "stream",
     "text": [
      "Profit for the 95 trial Fridberg study\n"
     ]
    },
    {
     "data": {
      "text/plain": [
       "1250"
      ]
     },
     "execution_count": 40,
     "metadata": {},
     "output_type": "execute_result"
    }
   ],
   "source": [
    "print(\"Profit for the 95 trial Fridberg study\")\n",
    "margin95df.loc[margin95df['Study'] == 'Fridberg', 'Margin'].sum()"
   ]
  },
  {
   "cell_type": "markdown",
   "id": "2a986735",
   "metadata": {},
   "source": [
    "### Assessment of margin for the 95 trial study\n",
    "In this trial as mentioned previously less than half of the participants made profit, but the 15 participant group made 1,250 over the course of the task. This obviously points to some bigger wins mitigating a collection of smaller losses in the group. The group who took part in this study were slightly older than some of the groups who made bigger profits (mean age of 29.6 years old). One thing consistent through this analysis of profit/loss margins has been student groups making more money than older groups. Age appears to be a factor but it may be interesting to look at the flow of each study too. By this, we mean looking at how participants profit/loss fluctuated on each turn and see did a series of wins lead them to change strategy and go for broke for example? Or did a series of losses at the start of the game potentially set the tone for some participants? To do this we will need to combine win and loss dataframes together and graph our results accordingly."
   ]
  },
  {
   "cell_type": "markdown",
   "id": "3545abe4",
   "metadata": {},
   "source": [
    "## Analysis of participants selection flow"
   ]
  },
  {
   "cell_type": "markdown",
   "id": "0de04476",
   "metadata": {},
   "source": [
    "We will start by looking at the participants in the 95 trial experiment. To merge our dataframes together we will need to change the column names so that they share common names."
   ]
  },
  {
   "cell_type": "code",
   "execution_count": 41,
   "id": "ece8700d",
   "metadata": {},
   "outputs": [],
   "source": [
    "columnnames95 = [f'Trial{num}' for num in range(1,96)]\n",
    "wins95test = win95\n",
    "wins95test = wins95test.set_axis(columnnames95, axis=1)"
   ]
  },
  {
   "cell_type": "code",
   "execution_count": 42,
   "id": "d0de7275",
   "metadata": {},
   "outputs": [],
   "source": [
    "loss95test = loss95\n",
    "loss95test = loss95test.set_axis(columnnames95, axis=1)"
   ]
  },
  {
   "cell_type": "code",
   "execution_count": 43,
   "id": "67f46a75",
   "metadata": {},
   "outputs": [],
   "source": [
    "df95_added = wins95test.add(loss95test, fill_value=0)"
   ]
  },
  {
   "cell_type": "markdown",
   "id": "1bf86ca1",
   "metadata": {},
   "source": [
    "This study was all part of the Fridberg study so we don't need to worry about comparing other studies here."
   ]
  },
  {
   "cell_type": "code",
   "execution_count": 44,
   "id": "f4d23a63",
   "metadata": {},
   "outputs": [],
   "source": [
    "per_trial_95 = df95_added.sum(axis=0)"
   ]
  },
  {
   "cell_type": "code",
   "execution_count": 45,
   "id": "971b9bd5",
   "metadata": {},
   "outputs": [
    {
     "data": {
      "text/plain": [
       "<AxesSubplot:title={'center':'Fridberg Study Win/Loss per round'}>"
      ]
     },
     "execution_count": 45,
     "metadata": {},
     "output_type": "execute_result"
    },
    {
     "data": {
      "image/png": "[encoded data removed]",
      "text/plain": [
       "<Figure size 432x288 with 1 Axes>"
      ]
     },
     "metadata": {
      "filenames": {
       "image/png": "C:\\Users\\user\\Desktop\\ca4015-assignment-1\\_build\\jupyter_execute\\data-analysis_52_1.png"
      },
      "needs_background": "light"
     },
     "output_type": "display_data"
    }
   ],
   "source": [
    "per_trial_95.plot(title='Fridberg Study Win/Loss per round', color='green')"
   ]
  },
  {
   "cell_type": "markdown",
   "id": "34264b79",
   "metadata": {},
   "source": [
    "### Next we move onto the 150 trial experiments and see how these studies flowed over the course of their trials"
   ]
  },
  {
   "cell_type": "code",
   "execution_count": 46,
   "id": "984a843f",
   "metadata": {},
   "outputs": [],
   "source": [
    "columnnames150 = [f'Trial{num}' for num in range(1,151)]\n",
    "#columnnames95\n",
    "wins150test = win150\n",
    "#wins95test.head()\n",
    "wins150test = wins150test.set_axis(columnnames150, axis=1)"
   ]
  },
  {
   "cell_type": "code",
   "execution_count": 47,
   "id": "8f4ab26b",
   "metadata": {},
   "outputs": [],
   "source": [
    "loss150test = loss150\n",
    "loss150test = loss150test.set_axis(columnnames150, axis=1)"
   ]
  },
  {
   "cell_type": "code",
   "execution_count": 48,
   "id": "e23097c5",
   "metadata": {},
   "outputs": [
    {
     "data": {
      "text/html": [
       "<div>\n",
       "<style scoped>\n",
       "    .dataframe tbody tr th:only-of-type {\n",
       "        vertical-align: middle;\n",
       "    }\n",
       "\n",
       "    .dataframe tbody tr th {\n",
       "        vertical-align: top;\n",
       "    }\n",
       "\n",
       "    .dataframe thead th {\n",
       "        text-align: right;\n",
       "    }\n",
       "</style>\n",
       "<table border=\"1\" class=\"dataframe\">\n",
       "  <thead>\n",
       "    <tr style=\"text-align: right;\">\n",
       "      <th></th>\n",
       "      <th>Trial1</th>\n",
       "      <th>Trial2</th>\n",
       "      <th>Trial3</th>\n",
       "      <th>Trial4</th>\n",
       "      <th>Trial5</th>\n",
       "      <th>Trial6</th>\n",
       "      <th>Trial7</th>\n",
       "      <th>Trial8</th>\n",
       "      <th>Trial9</th>\n",
       "      <th>Trial10</th>\n",
       "      <th>...</th>\n",
       "      <th>Trial141</th>\n",
       "      <th>Trial142</th>\n",
       "      <th>Trial143</th>\n",
       "      <th>Trial144</th>\n",
       "      <th>Trial145</th>\n",
       "      <th>Trial146</th>\n",
       "      <th>Trial147</th>\n",
       "      <th>Trial148</th>\n",
       "      <th>Trial149</th>\n",
       "      <th>Trial150</th>\n",
       "    </tr>\n",
       "  </thead>\n",
       "  <tbody>\n",
       "    <tr>\n",
       "      <th>Subj_1</th>\n",
       "      <td>-250</td>\n",
       "      <td>0</td>\n",
       "      <td>-350</td>\n",
       "      <td>0</td>\n",
       "      <td>0</td>\n",
       "      <td>-200</td>\n",
       "      <td>0</td>\n",
       "      <td>0</td>\n",
       "      <td>0</td>\n",
       "      <td>0</td>\n",
       "      <td>...</td>\n",
       "      <td>0</td>\n",
       "      <td>-250</td>\n",
       "      <td>0</td>\n",
       "      <td>-1250</td>\n",
       "      <td>0</td>\n",
       "      <td>0</td>\n",
       "      <td>-50</td>\n",
       "      <td>0</td>\n",
       "      <td>0</td>\n",
       "      <td>-150</td>\n",
       "    </tr>\n",
       "    <tr>\n",
       "      <th>Subj_2</th>\n",
       "      <td>-250</td>\n",
       "      <td>-350</td>\n",
       "      <td>0</td>\n",
       "      <td>0</td>\n",
       "      <td>0</td>\n",
       "      <td>0</td>\n",
       "      <td>0</td>\n",
       "      <td>0</td>\n",
       "      <td>0</td>\n",
       "      <td>0</td>\n",
       "      <td>...</td>\n",
       "      <td>0</td>\n",
       "      <td>0</td>\n",
       "      <td>0</td>\n",
       "      <td>-1250</td>\n",
       "      <td>0</td>\n",
       "      <td>-250</td>\n",
       "      <td>-300</td>\n",
       "      <td>0</td>\n",
       "      <td>-50</td>\n",
       "      <td>0</td>\n",
       "    </tr>\n",
       "    <tr>\n",
       "      <th>Subj_3</th>\n",
       "      <td>0</td>\n",
       "      <td>0</td>\n",
       "      <td>0</td>\n",
       "      <td>0</td>\n",
       "      <td>-150</td>\n",
       "      <td>-1250</td>\n",
       "      <td>0</td>\n",
       "      <td>-50</td>\n",
       "      <td>-350</td>\n",
       "      <td>0</td>\n",
       "      <td>...</td>\n",
       "      <td>0</td>\n",
       "      <td>0</td>\n",
       "      <td>0</td>\n",
       "      <td>0</td>\n",
       "      <td>0</td>\n",
       "      <td>0</td>\n",
       "      <td>0</td>\n",
       "      <td>0</td>\n",
       "      <td>0</td>\n",
       "      <td>0</td>\n",
       "    </tr>\n",
       "    <tr>\n",
       "      <th>Subj_4</th>\n",
       "      <td>0</td>\n",
       "      <td>0</td>\n",
       "      <td>0</td>\n",
       "      <td>0</td>\n",
       "      <td>-150</td>\n",
       "      <td>0</td>\n",
       "      <td>0</td>\n",
       "      <td>-50</td>\n",
       "      <td>-250</td>\n",
       "      <td>0</td>\n",
       "      <td>...</td>\n",
       "      <td>0</td>\n",
       "      <td>0</td>\n",
       "      <td>0</td>\n",
       "      <td>0</td>\n",
       "      <td>-250</td>\n",
       "      <td>0</td>\n",
       "      <td>0</td>\n",
       "      <td>0</td>\n",
       "      <td>0</td>\n",
       "      <td>0</td>\n",
       "    </tr>\n",
       "    <tr>\n",
       "      <th>Subj_5</th>\n",
       "      <td>0</td>\n",
       "      <td>0</td>\n",
       "      <td>0</td>\n",
       "      <td>0</td>\n",
       "      <td>0</td>\n",
       "      <td>0</td>\n",
       "      <td>-250</td>\n",
       "      <td>0</td>\n",
       "      <td>0</td>\n",
       "      <td>0</td>\n",
       "      <td>...</td>\n",
       "      <td>0</td>\n",
       "      <td>0</td>\n",
       "      <td>0</td>\n",
       "      <td>0</td>\n",
       "      <td>0</td>\n",
       "      <td>0</td>\n",
       "      <td>0</td>\n",
       "      <td>0</td>\n",
       "      <td>0</td>\n",
       "      <td>-250</td>\n",
       "    </tr>\n",
       "  </tbody>\n",
       "</table>\n",
       "<p>5 rows × 150 columns</p>\n",
       "</div>"
      ],
      "text/plain": [
       "        Trial1  Trial2  Trial3  Trial4  Trial5  Trial6  Trial7  Trial8  \\\n",
       "Subj_1    -250       0    -350       0       0    -200       0       0   \n",
       "Subj_2    -250    -350       0       0       0       0       0       0   \n",
       "Subj_3       0       0       0       0    -150   -1250       0     -50   \n",
       "Subj_4       0       0       0       0    -150       0       0     -50   \n",
       "Subj_5       0       0       0       0       0       0    -250       0   \n",
       "\n",
       "        Trial9  Trial10  ...  Trial141  Trial142  Trial143  Trial144  \\\n",
       "Subj_1       0        0  ...         0      -250         0     -1250   \n",
       "Subj_2       0        0  ...         0         0         0     -1250   \n",
       "Subj_3    -350        0  ...         0         0         0         0   \n",
       "Subj_4    -250        0  ...         0         0         0         0   \n",
       "Subj_5       0        0  ...         0         0         0         0   \n",
       "\n",
       "        Trial145  Trial146  Trial147  Trial148  Trial149  Trial150  \n",
       "Subj_1         0         0       -50         0         0      -150  \n",
       "Subj_2         0      -250      -300         0       -50         0  \n",
       "Subj_3         0         0         0         0         0         0  \n",
       "Subj_4      -250         0         0         0         0         0  \n",
       "Subj_5         0         0         0         0         0      -250  \n",
       "\n",
       "[5 rows x 150 columns]"
      ]
     },
     "execution_count": 48,
     "metadata": {},
     "output_type": "execute_result"
    }
   ],
   "source": [
    "loss150test.head()"
   ]
  },
  {
   "cell_type": "code",
   "execution_count": 49,
   "id": "129f868f",
   "metadata": {},
   "outputs": [],
   "source": [
    "df150_added = wins150test.add(loss150test, fill_value=0)"
   ]
  },
  {
   "cell_type": "code",
   "execution_count": 50,
   "id": "3ae7d3f5",
   "metadata": {},
   "outputs": [],
   "source": [
    "df150_added['Study'] = index150['Study'].values"
   ]
  },
  {
   "cell_type": "code",
   "execution_count": 51,
   "id": "b0811226",
   "metadata": {},
   "outputs": [],
   "source": [
    "teststein = df150_added.loc[df150_added['Study'] == 'Steingroever2011']\n",
    "del teststein['Study']\n",
    "per_trial_150_stein = teststein.sum(axis=0)"
   ]
  },
  {
   "cell_type": "code",
   "execution_count": 52,
   "id": "034476f0",
   "metadata": {},
   "outputs": [
    {
     "data": {
      "text/plain": [
       "<AxesSubplot:title={'center':\"Winnings per round for Steingroever2011's study\"}>"
      ]
     },
     "execution_count": 52,
     "metadata": {},
     "output_type": "execute_result"
    },
    {
     "data": {
      "image/png": "[encoded data removed]",
      "text/plain": [
       "<Figure size 432x288 with 1 Axes>"
      ]
     },
     "metadata": {
      "filenames": {
       "image/png": "C:\\Users\\user\\Desktop\\ca4015-assignment-1\\_build\\jupyter_execute\\data-analysis_60_1.png"
      },
      "needs_background": "light"
     },
     "output_type": "display_data"
    }
   ],
   "source": [
    "per_trial_150_stein.plot(title=\"Winnings per round for Steingroever2011's study\", color=\"green\")"
   ]
  },
  {
   "cell_type": "code",
   "execution_count": 53,
   "id": "bd726a51",
   "metadata": {},
   "outputs": [],
   "source": [
    "testWetzels = df150_added.loc[df150_added['Study'] == 'Wetzels']\n",
    "del testWetzels['Study']\n",
    "per_trial_150_wetzels = testWetzels.sum(axis=0)"
   ]
  },
  {
   "cell_type": "code",
   "execution_count": 54,
   "id": "851a8fae",
   "metadata": {},
   "outputs": [
    {
     "data": {
      "text/plain": [
       "<AxesSubplot:title={'center':'Winnings per round for Wetzels study'}>"
      ]
     },
     "execution_count": 54,
     "metadata": {},
     "output_type": "execute_result"
    },
    {
     "data": {
      "image/png": "[encoded data removed]",
      "text/plain": [
       "<Figure size 432x288 with 1 Axes>"
      ]
     },
     "metadata": {
      "filenames": {
       "image/png": "C:\\Users\\user\\Desktop\\ca4015-assignment-1\\_build\\jupyter_execute\\data-analysis_62_1.png"
      },
      "needs_background": "light"
     },
     "output_type": "display_data"
    }
   ],
   "source": [
    "per_trial_150_wetzels.plot(title=\"Winnings per round for Wetzels study\", color=\"green\")"
   ]
  },
  {
   "cell_type": "code",
   "execution_count": null,
   "id": "7f45467f",
   "metadata": {},
   "outputs": [],
   "source": []
  }
 ],
 "metadata": {
  "kernelspec": {
   "display_name": "Python 3",
   "language": "python",
   "name": "python3"
  },
  "language_info": {
   "codemirror_mode": {
    "name": "ipython",
    "version": 3
   },
   "file_extension": ".py",
   "mimetype": "text/x-python",
   "name": "python",
   "nbconvert_exporter": "python",
   "pygments_lexer": "ipython3",
   "version": "3.9.7"
  }
 },
 "nbformat": 4,
 "nbformat_minor": 5
}