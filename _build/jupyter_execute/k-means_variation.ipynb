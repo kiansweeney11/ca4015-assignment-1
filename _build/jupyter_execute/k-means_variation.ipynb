{
 "cells": [
  {
   "cell_type": "markdown",
   "id": "b5141c50",
   "metadata": {},
   "source": [
    "# 4. K-Means Variation"
   ]
  },
  {
   "cell_type": "code",
   "execution_count": 1,
   "id": "3069d4db",
   "metadata": {
    "tags": [
     "remove-output"
    ]
   },
   "outputs": [
    {
     "ename": "ModuleNotFoundError",
     "evalue": "No module named 'pandas'",
     "output_type": "error",
     "traceback": [
      "\u001b[1;31m---------------------------------------------------------------------------\u001b[0m",
      "\u001b[1;31mModuleNotFoundError\u001b[0m                       Traceback (most recent call last)",
      "\u001b[1;32m~\\AppData\\Local\\Temp/ipykernel_28308/992599997.py\u001b[0m in \u001b[0;36m<module>\u001b[1;34m\u001b[0m\n\u001b[1;32m----> 1\u001b[1;33m \u001b[1;32mimport\u001b[0m \u001b[0mpandas\u001b[0m \u001b[1;32mas\u001b[0m \u001b[0mpd\u001b[0m\u001b[1;33m\u001b[0m\u001b[1;33m\u001b[0m\u001b[0m\n\u001b[0m\u001b[0;32m      2\u001b[0m \u001b[1;32mimport\u001b[0m \u001b[0mseaborn\u001b[0m \u001b[1;32mas\u001b[0m \u001b[0msn\u001b[0m\u001b[1;33m\u001b[0m\u001b[1;33m\u001b[0m\u001b[0m\n\u001b[0;32m      3\u001b[0m \u001b[1;32mimport\u001b[0m \u001b[0mnumpy\u001b[0m \u001b[1;32mas\u001b[0m \u001b[0mnp\u001b[0m\u001b[1;33m\u001b[0m\u001b[1;33m\u001b[0m\u001b[0m\n\u001b[0;32m      4\u001b[0m \u001b[1;32mimport\u001b[0m \u001b[0mmatplotlib\u001b[0m\u001b[1;33m.\u001b[0m\u001b[0mpyplot\u001b[0m \u001b[1;32mas\u001b[0m \u001b[0mplt\u001b[0m\u001b[1;33m\u001b[0m\u001b[1;33m\u001b[0m\u001b[0m\n\u001b[0;32m      5\u001b[0m \u001b[1;32mfrom\u001b[0m \u001b[0msklearn\u001b[0m\u001b[1;33m.\u001b[0m\u001b[0mcluster\u001b[0m \u001b[1;32mimport\u001b[0m \u001b[0mKMeans\u001b[0m\u001b[1;33m,\u001b[0m \u001b[0mAgglomerativeClustering\u001b[0m\u001b[1;33m\u001b[0m\u001b[1;33m\u001b[0m\u001b[0m\n",
      "\u001b[1;31mModuleNotFoundError\u001b[0m: No module named 'pandas'"
     ]
    }
   ],
   "source": [
    "import pandas as pd\n",
    "import seaborn as sn\n",
    "import numpy as np\n",
    "import matplotlib.pyplot as plt\n",
    "from sklearn.cluster import KMeans, AgglomerativeClustering\n",
    "from sklearn.metrics import silhouette_score"
   ]
  },
  {
   "cell_type": "markdown",
   "id": "778c76fb",
   "metadata": {},
   "source": [
    "Import our data"
   ]
  },
  {
   "cell_type": "code",
   "execution_count": 3,
   "id": "1a886b75",
   "metadata": {},
   "outputs": [],
   "source": [
    "cleaned95 = pd.read_csv('data/cleaned95.csv', index_col='Unnamed: 0')\n",
    "cleaned100 = pd.read_csv('data/cleaned100.csv', index_col='Unnamed: 0')\n",
    "cleaned150 = pd.read_csv('data/cleaned150.csv', index_col='Unnamed: 0')\n",
    "joined = pd.read_csv('data/cleaned_all.csv', index_col='Unnamed: 0')\n",
    "standard = pd.read_csv('data/standardized_all.csv', index_col='Unnamed: 0')"
   ]
  },
  {
   "cell_type": "code",
   "execution_count": 4,
   "id": "ce2d2669",
   "metadata": {},
   "outputs": [
    {
     "data": {
      "text/html": [
       "<div>\n",
       "<style scoped>\n",
       "    .dataframe tbody tr th:only-of-type {\n",
       "        vertical-align: middle;\n",
       "    }\n",
       "\n",
       "    .dataframe tbody tr th {\n",
       "        vertical-align: top;\n",
       "    }\n",
       "\n",
       "    .dataframe thead th {\n",
       "        text-align: right;\n",
       "    }\n",
       "</style>\n",
       "<table border=\"1\" class=\"dataframe\">\n",
       "  <thead>\n",
       "    <tr style=\"text-align: right;\">\n",
       "      <th></th>\n",
       "      <th>Margin</th>\n",
       "      <th>Most Common Choice Picked</th>\n",
       "      <th>Most Common Choice</th>\n",
       "      <th>Average Choice</th>\n",
       "      <th>StudyNumber</th>\n",
       "    </tr>\n",
       "  </thead>\n",
       "  <tbody>\n",
       "    <tr>\n",
       "      <th>0</th>\n",
       "      <td>1.044988</td>\n",
       "      <td>1.062672</td>\n",
       "      <td>1.234405</td>\n",
       "      <td>2.271920</td>\n",
       "      <td>-1.60938</td>\n",
       "    </tr>\n",
       "    <tr>\n",
       "      <th>1</th>\n",
       "      <td>-0.414346</td>\n",
       "      <td>-0.804770</td>\n",
       "      <td>1.234405</td>\n",
       "      <td>-0.410317</td>\n",
       "      <td>-1.60938</td>\n",
       "    </tr>\n",
       "    <tr>\n",
       "      <th>2</th>\n",
       "      <td>-0.474318</td>\n",
       "      <td>-0.559054</td>\n",
       "      <td>1.234405</td>\n",
       "      <td>0.268730</td>\n",
       "      <td>-1.60938</td>\n",
       "    </tr>\n",
       "    <tr>\n",
       "      <th>3</th>\n",
       "      <td>-0.294400</td>\n",
       "      <td>-0.559054</td>\n",
       "      <td>1.234405</td>\n",
       "      <td>0.370587</td>\n",
       "      <td>-1.60938</td>\n",
       "    </tr>\n",
       "    <tr>\n",
       "      <th>4</th>\n",
       "      <td>0.205371</td>\n",
       "      <td>-0.165908</td>\n",
       "      <td>1.234405</td>\n",
       "      <td>1.049635</td>\n",
       "      <td>-1.60938</td>\n",
       "    </tr>\n",
       "  </tbody>\n",
       "</table>\n",
       "</div>"
      ],
      "text/plain": [
       "     Margin  Most Common Choice Picked  Most Common Choice  Average Choice  \\\n",
       "0  1.044988                   1.062672            1.234405        2.271920   \n",
       "1 -0.414346                  -0.804770            1.234405       -0.410317   \n",
       "2 -0.474318                  -0.559054            1.234405        0.268730   \n",
       "3 -0.294400                  -0.559054            1.234405        0.370587   \n",
       "4  0.205371                  -0.165908            1.234405        1.049635   \n",
       "\n",
       "   StudyNumber  \n",
       "0     -1.60938  \n",
       "1     -1.60938  \n",
       "2     -1.60938  \n",
       "3     -1.60938  \n",
       "4     -1.60938  "
      ]
     },
     "execution_count": 4,
     "metadata": {},
     "output_type": "execute_result"
    }
   ],
   "source": [
    "standard.head()"
   ]
  },
  {
   "cell_type": "markdown",
   "id": "8f2bd09f",
   "metadata": {},
   "source": [
    "## Methodology\n",
    "We are going to attempt to follow the methods stated in {cite}`LinPP` in his attempt at constructing a privacy preserving clustering technique based on the k-means algorithm. This involves a 2 step process which is as follows:\n",
    "\n",
    "1. Data Protection Phase and\n",
    "2. Data Recovery Phase\n",
    "\n",
    "The first phase involving the data protection phase involves 4 key steps. Firstly, we apply the K-means algorithm on our dataset and then we select one of the clusters from the result. In our cluster let's say A, we select the furthest data away from the centroid of A. We generate the set of noises by the using the following equation:\n",
    "\n",
    "$$\n",
    " n_i^u = d^{u} + \\alpha \\times (distance(c,d)) \\tag{1}\n",
    "$$\n",
    "\n",
    "We then use the following equation:\n",
    "\n",
    "$$\n",
    " p_i = |D| \\times Rand(s) \\tag{2}\n",
    "$$\n",
    "\n",
    "This is to obtain the position of the noise from eq(1) in dataset D. This leads us on to our data recovery phase. Our first step in the phase is to use eq(2) and obtain p_i for position of noise in D' and commence removals. Then we delete all the noises and the original dataset D can be recovered immediately. The end result should be a dataset that shares cluster information but protects the privacy of the individuals at hand."
   ]
  },
  {
   "cell_type": "code",
   "execution_count": 5,
   "id": "22e1fe91",
   "metadata": {},
   "outputs": [],
   "source": [
    "kmeans_margin_joined = KMeans(n_clusters=3).fit(standard[[\"Margin\", \"Most Common Choice Picked\"]])\n",
    "centroids_betas_joined = kmeans_margin_joined.cluster_centers_"
   ]
  },
  {
   "cell_type": "code",
   "execution_count": 6,
   "id": "1414db0b",
   "metadata": {},
   "outputs": [
    {
     "data": {
      "image/png": "[encoded data removed]",
      "text/plain": [
       "<Figure size 1152x576 with 1 Axes>"
      ]
     },
     "metadata": {
      "filenames": {
       "image/png": "C:\\Users\\user\\Desktop\\ca4015-assignment-1\\_build\\jupyter_execute\\k-means_variation_7_0.png"
      },
      "needs_background": "light"
     },
     "output_type": "display_data"
    }
   ],
   "source": [
    "plt.figure(figsize=(16,8))\n",
    "plt.scatter(standard['Margin'], standard['Most Common Choice Picked'], c= kmeans_margin_joined.labels_, cmap = \"Set1\", alpha=0.5)\n",
    "plt.scatter(centroids_betas_joined[:, 0], centroids_betas_joined[:, 1], c='blue', marker='x')\n",
    "plt.title('K-Means cluster for all Subjects - Most Common Choice Picked')\n",
    "plt.xlabel('Margin')\n",
    "plt.ylabel('Times Most Common Choice Picked')\n",
    "plt.show()"
   ]
  },
  {
   "cell_type": "code",
   "execution_count": 7,
   "id": "9c66de5d",
   "metadata": {},
   "outputs": [
    {
     "data": {
      "text/plain": [
       "array([[-1.10872288, -0.06074673],\n",
       "       [ 1.41597414,  1.55028183],\n",
       "       [ 0.25911929, -0.38263846]])"
      ]
     },
     "execution_count": 7,
     "metadata": {},
     "output_type": "execute_result"
    }
   ],
   "source": [
    "centroids_betas_joined"
   ]
  },
  {
   "cell_type": "markdown",
   "id": "fdc05e1e",
   "metadata": {},
   "source": [
    "We can tell from our above cluster centres that cluster 0 is in red, cluster 1 is the right most cluster and cluster 2 is in grey."
   ]
  },
  {
   "cell_type": "code",
   "execution_count": 8,
   "id": "2a22190a",
   "metadata": {},
   "outputs": [
    {
     "data": {
      "text/html": [
       "<div>\n",
       "<style scoped>\n",
       "    .dataframe tbody tr th:only-of-type {\n",
       "        vertical-align: middle;\n",
       "    }\n",
       "\n",
       "    .dataframe tbody tr th {\n",
       "        vertical-align: top;\n",
       "    }\n",
       "\n",
       "    .dataframe thead th {\n",
       "        text-align: right;\n",
       "    }\n",
       "</style>\n",
       "<table border=\"1\" class=\"dataframe\">\n",
       "  <thead>\n",
       "    <tr style=\"text-align: right;\">\n",
       "      <th></th>\n",
       "      <th>Margin</th>\n",
       "      <th>Most Common Choice Picked</th>\n",
       "      <th>Most Common Choice</th>\n",
       "      <th>Average Choice</th>\n",
       "      <th>StudyNumber</th>\n",
       "      <th>cluster</th>\n",
       "    </tr>\n",
       "  </thead>\n",
       "  <tbody>\n",
       "    <tr>\n",
       "      <th>0</th>\n",
       "      <td>1.044988</td>\n",
       "      <td>1.062672</td>\n",
       "      <td>1.234405</td>\n",
       "      <td>2.271920</td>\n",
       "      <td>-1.60938</td>\n",
       "      <td>1</td>\n",
       "    </tr>\n",
       "    <tr>\n",
       "      <th>1</th>\n",
       "      <td>-0.414346</td>\n",
       "      <td>-0.804770</td>\n",
       "      <td>1.234405</td>\n",
       "      <td>-0.410317</td>\n",
       "      <td>-1.60938</td>\n",
       "      <td>2</td>\n",
       "    </tr>\n",
       "    <tr>\n",
       "      <th>2</th>\n",
       "      <td>-0.474318</td>\n",
       "      <td>-0.559054</td>\n",
       "      <td>1.234405</td>\n",
       "      <td>0.268730</td>\n",
       "      <td>-1.60938</td>\n",
       "      <td>2</td>\n",
       "    </tr>\n",
       "    <tr>\n",
       "      <th>3</th>\n",
       "      <td>-0.294400</td>\n",
       "      <td>-0.559054</td>\n",
       "      <td>1.234405</td>\n",
       "      <td>0.370587</td>\n",
       "      <td>-1.60938</td>\n",
       "      <td>2</td>\n",
       "    </tr>\n",
       "    <tr>\n",
       "      <th>4</th>\n",
       "      <td>0.205371</td>\n",
       "      <td>-0.165908</td>\n",
       "      <td>1.234405</td>\n",
       "      <td>1.049635</td>\n",
       "      <td>-1.60938</td>\n",
       "      <td>2</td>\n",
       "    </tr>\n",
       "  </tbody>\n",
       "</table>\n",
       "</div>"
      ],
      "text/plain": [
       "     Margin  Most Common Choice Picked  Most Common Choice  Average Choice  \\\n",
       "0  1.044988                   1.062672            1.234405        2.271920   \n",
       "1 -0.414346                  -0.804770            1.234405       -0.410317   \n",
       "2 -0.474318                  -0.559054            1.234405        0.268730   \n",
       "3 -0.294400                  -0.559054            1.234405        0.370587   \n",
       "4  0.205371                  -0.165908            1.234405        1.049635   \n",
       "\n",
       "   StudyNumber  cluster  \n",
       "0     -1.60938        1  \n",
       "1     -1.60938        2  \n",
       "2     -1.60938        2  \n",
       "3     -1.60938        2  \n",
       "4     -1.60938        2  "
      ]
     },
     "execution_count": 8,
     "metadata": {},
     "output_type": "execute_result"
    }
   ],
   "source": [
    "standard['cluster'] = kmeans_margin_joined.labels_.tolist()\n",
    "standard.head()"
   ]
  },
  {
   "cell_type": "code",
   "execution_count": 9,
   "id": "9144b2cb",
   "metadata": {},
   "outputs": [
    {
     "data": {
      "text/html": [
       "<div>\n",
       "<style scoped>\n",
       "    .dataframe tbody tr th:only-of-type {\n",
       "        vertical-align: middle;\n",
       "    }\n",
       "\n",
       "    .dataframe tbody tr th {\n",
       "        vertical-align: top;\n",
       "    }\n",
       "\n",
       "    .dataframe thead th {\n",
       "        text-align: right;\n",
       "    }\n",
       "</style>\n",
       "<table border=\"1\" class=\"dataframe\">\n",
       "  <thead>\n",
       "    <tr style=\"text-align: right;\">\n",
       "      <th></th>\n",
       "      <th>Margin</th>\n",
       "      <th>Most Common Choice Picked</th>\n",
       "      <th>Most Common Choice</th>\n",
       "      <th>Average Choice</th>\n",
       "      <th>StudyNumber</th>\n",
       "      <th>cluster</th>\n",
       "    </tr>\n",
       "  </thead>\n",
       "  <tbody>\n",
       "    <tr>\n",
       "      <th>16</th>\n",
       "      <td>-1.154008</td>\n",
       "      <td>0.374667</td>\n",
       "      <td>-0.923181</td>\n",
       "      <td>-1.233097</td>\n",
       "      <td>1.318707</td>\n",
       "      <td>0</td>\n",
       "    </tr>\n",
       "    <tr>\n",
       "      <th>20</th>\n",
       "      <td>-1.074044</td>\n",
       "      <td>-0.067622</td>\n",
       "      <td>-2.001975</td>\n",
       "      <td>-1.319109</td>\n",
       "      <td>1.318707</td>\n",
       "      <td>0</td>\n",
       "    </tr>\n",
       "    <tr>\n",
       "      <th>26</th>\n",
       "      <td>-0.594263</td>\n",
       "      <td>1.357531</td>\n",
       "      <td>-0.923181</td>\n",
       "      <td>-0.889046</td>\n",
       "      <td>1.318707</td>\n",
       "      <td>0</td>\n",
       "    </tr>\n",
       "    <tr>\n",
       "      <th>28</th>\n",
       "      <td>-1.673771</td>\n",
       "      <td>2.586111</td>\n",
       "      <td>-0.923181</td>\n",
       "      <td>-1.899695</td>\n",
       "      <td>1.318707</td>\n",
       "      <td>0</td>\n",
       "    </tr>\n",
       "    <tr>\n",
       "      <th>37</th>\n",
       "      <td>-1.193990</td>\n",
       "      <td>2.094679</td>\n",
       "      <td>-0.923181</td>\n",
       "      <td>-0.631008</td>\n",
       "      <td>1.318707</td>\n",
       "      <td>0</td>\n",
       "    </tr>\n",
       "  </tbody>\n",
       "</table>\n",
       "</div>"
      ],
      "text/plain": [
       "      Margin  Most Common Choice Picked  Most Common Choice  Average Choice  \\\n",
       "16 -1.154008                   0.374667           -0.923181       -1.233097   \n",
       "20 -1.074044                  -0.067622           -2.001975       -1.319109   \n",
       "26 -0.594263                   1.357531           -0.923181       -0.889046   \n",
       "28 -1.673771                   2.586111           -0.923181       -1.899695   \n",
       "37 -1.193990                   2.094679           -0.923181       -0.631008   \n",
       "\n",
       "    StudyNumber  cluster  \n",
       "16     1.318707        0  \n",
       "20     1.318707        0  \n",
       "26     1.318707        0  \n",
       "28     1.318707        0  \n",
       "37     1.318707        0  "
      ]
     },
     "execution_count": 9,
     "metadata": {},
     "output_type": "execute_result"
    }
   ],
   "source": [
    "cluster0 = standard[standard.cluster==0]\n",
    "cluster0.head()"
   ]
  },
  {
   "cell_type": "markdown",
   "id": "5a2cdc62",
   "metadata": {},
   "source": [
    "From looking at our graph and cluster 0, I feel data points with margin values less than -2 would be classified as noise."
   ]
  },
  {
   "cell_type": "code",
   "execution_count": 10,
   "id": "20c64dc6",
   "metadata": {},
   "outputs": [
    {
     "data": {
      "text/html": [
       "<div>\n",
       "<style scoped>\n",
       "    .dataframe tbody tr th:only-of-type {\n",
       "        vertical-align: middle;\n",
       "    }\n",
       "\n",
       "    .dataframe tbody tr th {\n",
       "        vertical-align: top;\n",
       "    }\n",
       "\n",
       "    .dataframe thead th {\n",
       "        text-align: right;\n",
       "    }\n",
       "</style>\n",
       "<table border=\"1\" class=\"dataframe\">\n",
       "  <thead>\n",
       "    <tr style=\"text-align: right;\">\n",
       "      <th></th>\n",
       "      <th>Margin</th>\n",
       "      <th>Most Common Choice Picked</th>\n",
       "      <th>Most Common Choice</th>\n",
       "      <th>Average Choice</th>\n",
       "      <th>StudyNumber</th>\n",
       "      <th>cluster</th>\n",
       "    </tr>\n",
       "  </thead>\n",
       "  <tbody>\n",
       "    <tr>\n",
       "      <th>43</th>\n",
       "      <td>-2.593351</td>\n",
       "      <td>4.600983</td>\n",
       "      <td>-0.923181</td>\n",
       "      <td>-2.114727</td>\n",
       "      <td>1.318707</td>\n",
       "      <td>0</td>\n",
       "    </tr>\n",
       "    <tr>\n",
       "      <th>49</th>\n",
       "      <td>-3.233059</td>\n",
       "      <td>3.224973</td>\n",
       "      <td>-0.923181</td>\n",
       "      <td>-2.566293</td>\n",
       "      <td>1.318707</td>\n",
       "      <td>0</td>\n",
       "    </tr>\n",
       "    <tr>\n",
       "      <th>287</th>\n",
       "      <td>-2.501393</td>\n",
       "      <td>-0.657340</td>\n",
       "      <td>-2.001975</td>\n",
       "      <td>-2.340510</td>\n",
       "      <td>-0.877358</td>\n",
       "      <td>0</td>\n",
       "    </tr>\n",
       "    <tr>\n",
       "      <th>404</th>\n",
       "      <td>-2.829243</td>\n",
       "      <td>0.522097</td>\n",
       "      <td>-0.923181</td>\n",
       "      <td>-1.630905</td>\n",
       "      <td>0.220674</td>\n",
       "      <td>0</td>\n",
       "    </tr>\n",
       "    <tr>\n",
       "      <th>450</th>\n",
       "      <td>-3.273040</td>\n",
       "      <td>-0.067622</td>\n",
       "      <td>-0.923181</td>\n",
       "      <td>-2.405019</td>\n",
       "      <td>0.586685</td>\n",
       "      <td>0</td>\n",
       "    </tr>\n",
       "    <tr>\n",
       "      <th>501</th>\n",
       "      <td>-2.853232</td>\n",
       "      <td>0.522097</td>\n",
       "      <td>-0.923181</td>\n",
       "      <td>-1.888943</td>\n",
       "      <td>0.586685</td>\n",
       "      <td>0</td>\n",
       "    </tr>\n",
       "    <tr>\n",
       "      <th>531</th>\n",
       "      <td>-2.453415</td>\n",
       "      <td>0.522097</td>\n",
       "      <td>-0.923181</td>\n",
       "      <td>-0.953555</td>\n",
       "      <td>0.586685</td>\n",
       "      <td>0</td>\n",
       "    </tr>\n",
       "    <tr>\n",
       "      <th>547</th>\n",
       "      <td>-3.113113</td>\n",
       "      <td>0.522097</td>\n",
       "      <td>-0.923181</td>\n",
       "      <td>-2.146981</td>\n",
       "      <td>0.586685</td>\n",
       "      <td>0</td>\n",
       "    </tr>\n",
       "    <tr>\n",
       "      <th>572</th>\n",
       "      <td>-2.505391</td>\n",
       "      <td>0.522097</td>\n",
       "      <td>-0.923181</td>\n",
       "      <td>-1.308358</td>\n",
       "      <td>0.586685</td>\n",
       "      <td>0</td>\n",
       "    </tr>\n",
       "    <tr>\n",
       "      <th>573</th>\n",
       "      <td>-2.505391</td>\n",
       "      <td>0.522097</td>\n",
       "      <td>-0.923181</td>\n",
       "      <td>-1.308358</td>\n",
       "      <td>0.586685</td>\n",
       "      <td>0</td>\n",
       "    </tr>\n",
       "  </tbody>\n",
       "</table>\n",
       "</div>"
      ],
      "text/plain": [
       "       Margin  Most Common Choice Picked  Most Common Choice  Average Choice  \\\n",
       "43  -2.593351                   4.600983           -0.923181       -2.114727   \n",
       "49  -3.233059                   3.224973           -0.923181       -2.566293   \n",
       "287 -2.501393                  -0.657340           -2.001975       -2.340510   \n",
       "404 -2.829243                   0.522097           -0.923181       -1.630905   \n",
       "450 -3.273040                  -0.067622           -0.923181       -2.405019   \n",
       "501 -2.853232                   0.522097           -0.923181       -1.888943   \n",
       "531 -2.453415                   0.522097           -0.923181       -0.953555   \n",
       "547 -3.113113                   0.522097           -0.923181       -2.146981   \n",
       "572 -2.505391                   0.522097           -0.923181       -1.308358   \n",
       "573 -2.505391                   0.522097           -0.923181       -1.308358   \n",
       "\n",
       "     StudyNumber  cluster  \n",
       "43      1.318707        0  \n",
       "49      1.318707        0  \n",
       "287    -0.877358        0  \n",
       "404     0.220674        0  \n",
       "450     0.586685        0  \n",
       "501     0.586685        0  \n",
       "531     0.586685        0  \n",
       "547     0.586685        0  \n",
       "572     0.586685        0  \n",
       "573     0.586685        0  "
      ]
     },
     "execution_count": 10,
     "metadata": {},
     "output_type": "execute_result"
    }
   ],
   "source": [
    "noises = cluster0[cluster0.Margin <= -2]\n",
    "noises"
   ]
  },
  {
   "cell_type": "code",
   "execution_count": 12,
   "id": "8e2ae19a",
   "metadata": {},
   "outputs": [],
   "source": [
    "marginnoise = pd.DataFrame(np.random.uniform(-3.4,-2.5,15))"
   ]
  },
  {
   "cell_type": "code",
   "execution_count": 13,
   "id": "7a324d7e",
   "metadata": {
    "tags": [
     "remove-output"
    ]
   },
   "outputs": [
    {
     "data": {
      "text/html": [
       "<div>\n",
       "<style scoped>\n",
       "    .dataframe tbody tr th:only-of-type {\n",
       "        vertical-align: middle;\n",
       "    }\n",
       "\n",
       "    .dataframe tbody tr th {\n",
       "        vertical-align: top;\n",
       "    }\n",
       "\n",
       "    .dataframe thead th {\n",
       "        text-align: right;\n",
       "    }\n",
       "</style>\n",
       "<table border=\"1\" class=\"dataframe\">\n",
       "  <thead>\n",
       "    <tr style=\"text-align: right;\">\n",
       "      <th></th>\n",
       "      <th>Margin</th>\n",
       "    </tr>\n",
       "  </thead>\n",
       "  <tbody>\n",
       "    <tr>\n",
       "      <th>0</th>\n",
       "      <td>-2.542259</td>\n",
       "    </tr>\n",
       "    <tr>\n",
       "      <th>1</th>\n",
       "      <td>-3.255683</td>\n",
       "    </tr>\n",
       "    <tr>\n",
       "      <th>2</th>\n",
       "      <td>-3.016242</td>\n",
       "    </tr>\n",
       "    <tr>\n",
       "      <th>3</th>\n",
       "      <td>-2.921898</td>\n",
       "    </tr>\n",
       "    <tr>\n",
       "      <th>4</th>\n",
       "      <td>-3.195019</td>\n",
       "    </tr>\n",
       "  </tbody>\n",
       "</table>\n",
       "</div>"
      ],
      "text/plain": [
       "     Margin\n",
       "0 -2.542259\n",
       "1 -3.255683\n",
       "2 -3.016242\n",
       "3 -2.921898\n",
       "4 -3.195019"
      ]
     },
     "execution_count": 13,
     "metadata": {},
     "output_type": "execute_result"
    }
   ],
   "source": [
    "marginnoise = marginnoise.rename(columns={0: 'Margin'})\n",
    "marginnoise.head()"
   ]
  },
  {
   "cell_type": "code",
   "execution_count": 14,
   "id": "1a91e384",
   "metadata": {
    "tags": [
     "remove-output"
    ]
   },
   "outputs": [
    {
     "data": {
      "text/html": [
       "<div>\n",
       "<style scoped>\n",
       "    .dataframe tbody tr th:only-of-type {\n",
       "        vertical-align: middle;\n",
       "    }\n",
       "\n",
       "    .dataframe tbody tr th {\n",
       "        vertical-align: top;\n",
       "    }\n",
       "\n",
       "    .dataframe thead th {\n",
       "        text-align: right;\n",
       "    }\n",
       "</style>\n",
       "<table border=\"1\" class=\"dataframe\">\n",
       "  <thead>\n",
       "    <tr style=\"text-align: right;\">\n",
       "      <th></th>\n",
       "      <th>0</th>\n",
       "    </tr>\n",
       "  </thead>\n",
       "  <tbody>\n",
       "    <tr>\n",
       "      <th>0</th>\n",
       "      <td>2.220171</td>\n",
       "    </tr>\n",
       "    <tr>\n",
       "      <th>1</th>\n",
       "      <td>2.045314</td>\n",
       "    </tr>\n",
       "    <tr>\n",
       "      <th>2</th>\n",
       "      <td>3.831233</td>\n",
       "    </tr>\n",
       "    <tr>\n",
       "      <th>3</th>\n",
       "      <td>3.094479</td>\n",
       "    </tr>\n",
       "    <tr>\n",
       "      <th>4</th>\n",
       "      <td>2.395261</td>\n",
       "    </tr>\n",
       "  </tbody>\n",
       "</table>\n",
       "</div>"
      ],
      "text/plain": [
       "          0\n",
       "0  2.220171\n",
       "1  2.045314\n",
       "2  3.831233\n",
       "3  3.094479\n",
       "4  2.395261"
      ]
     },
     "execution_count": 14,
     "metadata": {},
     "output_type": "execute_result"
    }
   ],
   "source": [
    "choicenoise = pd.DataFrame(np.random.uniform(-0.1,4,15))"
   ]
  },
  {
   "cell_type": "code",
   "execution_count": 15,
   "id": "756f6b66",
   "metadata": {},
   "outputs": [
    {
     "data": {
      "text/html": [
       "<div>\n",
       "<style scoped>\n",
       "    .dataframe tbody tr th:only-of-type {\n",
       "        vertical-align: middle;\n",
       "    }\n",
       "\n",
       "    .dataframe tbody tr th {\n",
       "        vertical-align: top;\n",
       "    }\n",
       "\n",
       "    .dataframe thead th {\n",
       "        text-align: right;\n",
       "    }\n",
       "</style>\n",
       "<table border=\"1\" class=\"dataframe\">\n",
       "  <thead>\n",
       "    <tr style=\"text-align: right;\">\n",
       "      <th></th>\n",
       "      <th>Most Common Choice Picked</th>\n",
       "    </tr>\n",
       "  </thead>\n",
       "  <tbody>\n",
       "    <tr>\n",
       "      <th>0</th>\n",
       "      <td>2.220171</td>\n",
       "    </tr>\n",
       "    <tr>\n",
       "      <th>1</th>\n",
       "      <td>2.045314</td>\n",
       "    </tr>\n",
       "    <tr>\n",
       "      <th>2</th>\n",
       "      <td>3.831233</td>\n",
       "    </tr>\n",
       "    <tr>\n",
       "      <th>3</th>\n",
       "      <td>3.094479</td>\n",
       "    </tr>\n",
       "    <tr>\n",
       "      <th>4</th>\n",
       "      <td>2.395261</td>\n",
       "    </tr>\n",
       "  </tbody>\n",
       "</table>\n",
       "</div>"
      ],
      "text/plain": [
       "   Most Common Choice Picked\n",
       "0                   2.220171\n",
       "1                   2.045314\n",
       "2                   3.831233\n",
       "3                   3.094479\n",
       "4                   2.395261"
      ]
     },
     "execution_count": 15,
     "metadata": {},
     "output_type": "execute_result"
    }
   ],
   "source": [
    "choicenoise = choicenoise.rename(columns={0: 'Most Common Choice Picked'})\n",
    "choicenoise.head()"
   ]
  },
  {
   "cell_type": "code",
   "execution_count": 16,
   "id": "bc0074eb",
   "metadata": {},
   "outputs": [],
   "source": [
    "noise = pd.concat([marginnoise, choicenoise], axis=1)"
   ]
  },
  {
   "cell_type": "markdown",
   "id": "fd621996",
   "metadata": {},
   "source": [
    "Our noise data is now generated we add this back to the original dataset now."
   ]
  },
  {
   "cell_type": "code",
   "execution_count": 39,
   "id": "cda03328",
   "metadata": {
    "tags": [
     "hide-output"
    ]
   },
   "outputs": [
    {
     "data": {
      "text/plain": [
       "array([[-2.59335066,  4.6009828 ],\n",
       "       [-3.23305855,  3.22497306],\n",
       "       [-2.50139265, -0.65734015],\n",
       "       [-2.82924294,  0.52209677],\n",
       "       [-3.2730403 , -0.06762169],\n",
       "       [-2.85323199,  0.52209677],\n",
       "       [-2.45341456,  0.52209677],\n",
       "       [-3.11311332,  0.52209677],\n",
       "       [-2.50539082,  0.52209677],\n",
       "       [-2.50539082,  0.52209677]])"
      ]
     },
     "execution_count": 39,
     "metadata": {},
     "output_type": "execute_result"
    }
   ],
   "source": [
    "noisesf = noises[['Margin', 'Most Common Choice Picked']]\n",
    "noisesf = noisesf.to_numpy()\n",
    "noisesf"
   ]
  },
  {
   "cell_type": "code",
   "execution_count": 43,
   "id": "f96a3c92",
   "metadata": {},
   "outputs": [
    {
     "data": {
      "text/plain": [
       "array([-1.10872288, -0.06074673])"
      ]
     },
     "execution_count": 43,
     "metadata": {},
     "output_type": "execute_result"
    }
   ],
   "source": [
    "centroids_betas_joined[0]"
   ]
  },
  {
   "cell_type": "code",
   "execution_count": 46,
   "id": "ec47ad56",
   "metadata": {},
   "outputs": [
    {
     "data": {
      "text/plain": [
       "array([4.89242699, 3.91264062, 1.51507518, 1.81656155, 2.16432834,\n",
       "       1.8392984 , 1.46557233, 2.0874117 , 1.51340276, 1.51340276])"
      ]
     },
     "execution_count": 46,
     "metadata": {},
     "output_type": "execute_result"
    }
   ],
   "source": [
    "from scipy.spatial.distance import cdist\n",
    "from scipy.spatial import distance\n",
    "\n",
    "distances = distance.cdist(centroids_betas_joined, noisesf, 'euclidean')\n",
    "distances[0]"
   ]
  },
  {
   "cell_type": "markdown",
   "id": "7f8e1a01",
   "metadata": {},
   "source": [
    "Our furtherest point away from the centroid of our choosen cluster 0 is the first point we see in the array here. This will be denoted as our data \"d\" the furtherest point from our centroid, C of cluster 0."
   ]
  },
  {
   "cell_type": "markdown",
   "id": "a070156f",
   "metadata": {},
   "source": [
    "We now need to use this distance value obtained and combine it with our \"noise offset ratio\" denoted as α. From our previousy cited paper this value is typically in the range 0 - 0.05. We will use 0.05 for α here."
   ]
  },
  {
   "cell_type": "code",
   "execution_count": null,
   "id": "baa84051",
   "metadata": {},
   "outputs": [],
   "source": []
  }
 ],
 "metadata": {
  "kernelspec": {
   "display_name": "Python 3",
   "language": "python",
   "name": "python3"
  },
  "language_info": {
   "codemirror_mode": {
    "name": "ipython",
    "version": 3
   },
   "file_extension": ".py",
   "mimetype": "text/x-python",
   "name": "python",
   "nbconvert_exporter": "python",
   "pygments_lexer": "ipython3",
   "version": "3.9.7"
  }
 },
 "nbformat": 4,
 "nbformat_minor": 5
}