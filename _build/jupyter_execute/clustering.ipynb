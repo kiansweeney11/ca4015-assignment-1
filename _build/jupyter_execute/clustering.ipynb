{
 "cells": [
  {
   "cell_type": "markdown",
   "id": "5fdf917f",
   "metadata": {},
   "source": [
    "# 3. Clustering\n",
    "## After our analysis of the data we must now cluster the data accordingly\n",
    "Importing approriate libraries"
   ]
  },
  {
   "cell_type": "code",
   "execution_count": 1,
   "id": "22216486",
   "metadata": {},
   "outputs": [
    {
     "ename": "ModuleNotFoundError",
     "evalue": "No module named 'pandas'",
     "output_type": "error",
     "traceback": [
      "\u001b[1;31m---------------------------------------------------------------------------\u001b[0m",
      "\u001b[1;31mModuleNotFoundError\u001b[0m                       Traceback (most recent call last)",
      "\u001b[1;32m~\\AppData\\Local\\Temp/ipykernel_12372/992599997.py\u001b[0m in \u001b[0;36m<module>\u001b[1;34m\u001b[0m\n\u001b[1;32m----> 1\u001b[1;33m \u001b[1;32mimport\u001b[0m \u001b[0mpandas\u001b[0m \u001b[1;32mas\u001b[0m \u001b[0mpd\u001b[0m\u001b[1;33m\u001b[0m\u001b[1;33m\u001b[0m\u001b[0m\n\u001b[0m\u001b[0;32m      2\u001b[0m \u001b[1;32mimport\u001b[0m \u001b[0mseaborn\u001b[0m \u001b[1;32mas\u001b[0m \u001b[0msn\u001b[0m\u001b[1;33m\u001b[0m\u001b[1;33m\u001b[0m\u001b[0m\n\u001b[0;32m      3\u001b[0m \u001b[1;32mimport\u001b[0m \u001b[0mnumpy\u001b[0m \u001b[1;32mas\u001b[0m \u001b[0mnp\u001b[0m\u001b[1;33m\u001b[0m\u001b[1;33m\u001b[0m\u001b[0m\n\u001b[0;32m      4\u001b[0m \u001b[1;32mimport\u001b[0m \u001b[0mmatplotlib\u001b[0m\u001b[1;33m.\u001b[0m\u001b[0mpyplot\u001b[0m \u001b[1;32mas\u001b[0m \u001b[0mplt\u001b[0m\u001b[1;33m\u001b[0m\u001b[1;33m\u001b[0m\u001b[0m\n\u001b[0;32m      5\u001b[0m \u001b[1;32mfrom\u001b[0m \u001b[0msklearn\u001b[0m\u001b[1;33m.\u001b[0m\u001b[0mcluster\u001b[0m \u001b[1;32mimport\u001b[0m \u001b[0mKMeans\u001b[0m\u001b[1;33m,\u001b[0m \u001b[0mAgglomerativeClustering\u001b[0m\u001b[1;33m\u001b[0m\u001b[1;33m\u001b[0m\u001b[0m\n",
      "\u001b[1;31mModuleNotFoundError\u001b[0m: No module named 'pandas'"
     ]
    }
   ],
   "source": [
    "import pandas as pd\n",
    "import seaborn as sn\n",
    "import numpy as np\n",
    "import matplotlib.pyplot as plt\n",
    "from sklearn.cluster import KMeans, AgglomerativeClustering\n",
    "from sklearn.metrics import silhouette_score"
   ]
  },
  {
   "cell_type": "markdown",
   "id": "1c5b2ec2",
   "metadata": {},
   "source": [
    "### First, we read in our data"
   ]
  },
  {
   "cell_type": "code",
   "execution_count": 2,
   "id": "19819498",
   "metadata": {},
   "outputs": [],
   "source": [
    "index95 = pd.read_csv('data/index_95.csv')\n",
    "index100 = pd.read_csv('data/index_100.csv')\n",
    "index150 = pd.read_csv('data/index_150.csv')\n",
    "win95 = pd.read_csv('data/wi_95.csv')\n",
    "win100 = pd.read_csv('data/wi_100.csv')\n",
    "win150 = pd.read_csv('data/wi_150.csv')\n",
    "loss95 = pd.read_csv('data/lo_95.csv')\n",
    "loss100 = pd.read_csv('data/lo_100.csv')\n",
    "loss150 = pd.read_csv('data/lo_150.csv')\n",
    "choice95 = pd.read_csv('data/choice_95.csv')\n",
    "choice100 = pd.read_csv('data/choice_100.csv')\n",
    "choice150 = pd.read_csv('data/choice_150.csv')"
   ]
  },
  {
   "cell_type": "markdown",
   "id": "b851f4db",
   "metadata": {},
   "source": [
    "Cleaned data from processing"
   ]
  },
  {
   "cell_type": "code",
   "execution_count": 3,
   "id": "52a405d2",
   "metadata": {},
   "outputs": [],
   "source": [
    "cleaned95 = pd.read_csv('data/cleaned95.csv')\n",
    "cleaned100 = pd.read_csv('data/cleaned100.csv')\n",
    "cleaned150 = pd.read_csv('data/cleaned150.csv')"
   ]
  },
  {
   "cell_type": "code",
   "execution_count": null,
   "id": "1a75fcf6",
   "metadata": {},
   "outputs": [],
   "source": []
  }
 ],
 "metadata": {
  "kernelspec": {
   "display_name": "Python 3",
   "language": "python",
   "name": "python3"
  },
  "language_info": {
   "codemirror_mode": {
    "name": "ipython",
    "version": 3
   },
   "file_extension": ".py",
   "mimetype": "text/x-python",
   "name": "python",
   "nbconvert_exporter": "python",
   "pygments_lexer": "ipython3",
   "version": "3.9.7"
  }
 },
 "nbformat": 4,
 "nbformat_minor": 5
}